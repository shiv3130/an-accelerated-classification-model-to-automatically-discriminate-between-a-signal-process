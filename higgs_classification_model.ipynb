{
 "cells": [
  {
   "cell_type": "markdown",
   "id": "animal-operation",
   "metadata": {},
   "source": [
    "# 1)Data Preprocessing\n",
    "### Data Set Information:\n",
    "\n",
    "  The data has been produced using Monte Carlo simulations. The first 21 features (columns 2-22) are kinematic properties measured by the particle detectors in the accelerator. The last seven features are functions of the first 21 features; these are high-level features derived by physicists to help discriminate between the two classes. There is an interest in using deep learning methods to obviate the need for physicists to manually develop such features. Benchmark results using Bayesian Decision Trees from a standard physics package and 5-layer neural networks are presented in the original paper. The last 500,000 examples are used as a test set.\n",
    "\n",
    "\n",
    "### Attribute Information:\n",
    "\n",
    "  The first column is the class label (1 for signal, 0 for background), followed by the 28 features (21 low-level features then 7 high-level features): lepton pT, lepton eta, lepton phi, missing energy magnitude, missing energy phi, jet 1 pt, jet 1 eta, jet 1 phi, jet 1 b-tag, jet 2 pt, jet 2 eta, jet 2 phi, jet 2 b-tag, jet 3 pt, jet 3 eta, jet 3 phi, jet 3 b-tag, jet 4 pt, jet 4 eta, jet 4 phi, jet 4 b-tag, m_jj, m_jjj, m_lv, m_jlv, m_bb, m_wbb, m_wwbb. For more detailed information about each feature see the original paper.\n",
    "\n",
    "### Loding the Data:"
   ]
  },
  {
   "cell_type": "code",
   "execution_count": 2,
   "id": "worthy-arthritis",
   "metadata": {},
   "outputs": [],
   "source": [
    "import pandas as pd\n",
    "import numpy as np\n",
    "import cuml\n",
    "import cudf\n",
    "import cupy\n",
    "import dask_cudf\n",
    "import sys\n",
    "import os\n",
    "from pprint import pprint\n",
    "import warnings\n",
    "warnings.filterwarnings('ignore')"
   ]
  },
  {
   "cell_type": "code",
   "execution_count": 3,
   "id": "combined-tournament",
   "metadata": {},
   "outputs": [],
   "source": [
    "cudf.set_allocator(\"managed\")"
   ]
  },
  {
   "cell_type": "code",
   "execution_count": 4,
   "id": "brutal-accuracy",
   "metadata": {},
   "outputs": [],
   "source": [
    "columns=['class_label', 'lepton pT', 'lepton eta', 'lepton phi', 'missing energy magnitude', 'missing energy phi', 'jet 1 pt', 'jet 1 eta', 'jet 1 phi', 'jet 1 b-tag', 'jet 2 pt', 'jet 2 eta', 'jet 2 phi', 'jet 2 b-tag', 'jet 3 pt', 'jet 3 eta', 'jet 3 phi', 'jet 3 b-tag', 'jet 4 pt', 'jet 4 eta', 'jet 4 phi', 'jet 4 b-tag', 'm_jj', 'm_jjj', 'm_lv', 'm_jlv', 'm_bb', 'm_wbb', 'm_wwbb']"
   ]
  },
  {
   "cell_type": "code",
   "execution_count": 5,
   "id": "comprehensive-blind",
   "metadata": {},
   "outputs": [],
   "source": [
    "higgs_data = cudf.read_csv('Partical.csv', hearder=None, names=columns)"
   ]
  },
  {
   "cell_type": "code",
   "execution_count": 6,
   "id": "aggregate-bangkok",
   "metadata": {},
   "outputs": [
    {
     "data": {
      "text/html": [
       "<div>\n",
       "<style scoped>\n",
       "    .dataframe tbody tr th:only-of-type {\n",
       "        vertical-align: middle;\n",
       "    }\n",
       "\n",
       "    .dataframe tbody tr th {\n",
       "        vertical-align: top;\n",
       "    }\n",
       "\n",
       "    .dataframe thead th {\n",
       "        text-align: right;\n",
       "    }\n",
       "</style>\n",
       "<table border=\"1\" class=\"dataframe\">\n",
       "  <thead>\n",
       "    <tr style=\"text-align: right;\">\n",
       "      <th></th>\n",
       "      <th>class_label</th>\n",
       "      <th>lepton pT</th>\n",
       "      <th>lepton eta</th>\n",
       "      <th>lepton phi</th>\n",
       "      <th>missing energy magnitude</th>\n",
       "      <th>missing energy phi</th>\n",
       "      <th>jet 1 pt</th>\n",
       "      <th>jet 1 eta</th>\n",
       "      <th>jet 1 phi</th>\n",
       "      <th>jet 1 b-tag</th>\n",
       "      <th>...</th>\n",
       "      <th>jet 4 eta</th>\n",
       "      <th>jet 4 phi</th>\n",
       "      <th>jet 4 b-tag</th>\n",
       "      <th>m_jj</th>\n",
       "      <th>m_jjj</th>\n",
       "      <th>m_lv</th>\n",
       "      <th>m_jlv</th>\n",
       "      <th>m_bb</th>\n",
       "      <th>m_wbb</th>\n",
       "      <th>m_wwbb</th>\n",
       "    </tr>\n",
       "  </thead>\n",
       "  <tbody>\n",
       "    <tr>\n",
       "      <th>0</th>\n",
       "      <td>1.0</td>\n",
       "      <td>0.869293</td>\n",
       "      <td>-0.635082</td>\n",
       "      <td>0.225690</td>\n",
       "      <td>0.327470</td>\n",
       "      <td>-0.689993</td>\n",
       "      <td>0.754202</td>\n",
       "      <td>-0.248573</td>\n",
       "      <td>-1.092064</td>\n",
       "      <td>0.000000</td>\n",
       "      <td>...</td>\n",
       "      <td>-0.010455</td>\n",
       "      <td>-0.045767</td>\n",
       "      <td>3.101961</td>\n",
       "      <td>1.353760</td>\n",
       "      <td>0.979563</td>\n",
       "      <td>0.978076</td>\n",
       "      <td>0.920005</td>\n",
       "      <td>0.721657</td>\n",
       "      <td>0.988751</td>\n",
       "      <td>0.876678</td>\n",
       "    </tr>\n",
       "    <tr>\n",
       "      <th>1</th>\n",
       "      <td>1.0</td>\n",
       "      <td>0.907542</td>\n",
       "      <td>0.329147</td>\n",
       "      <td>0.359412</td>\n",
       "      <td>1.497970</td>\n",
       "      <td>-0.313010</td>\n",
       "      <td>1.095531</td>\n",
       "      <td>-0.557525</td>\n",
       "      <td>-1.588230</td>\n",
       "      <td>2.173076</td>\n",
       "      <td>...</td>\n",
       "      <td>-1.138930</td>\n",
       "      <td>-0.000819</td>\n",
       "      <td>0.000000</td>\n",
       "      <td>0.302220</td>\n",
       "      <td>0.833048</td>\n",
       "      <td>0.985700</td>\n",
       "      <td>0.978098</td>\n",
       "      <td>0.779732</td>\n",
       "      <td>0.992356</td>\n",
       "      <td>0.798343</td>\n",
       "    </tr>\n",
       "    <tr>\n",
       "      <th>2</th>\n",
       "      <td>1.0</td>\n",
       "      <td>0.798835</td>\n",
       "      <td>1.470639</td>\n",
       "      <td>-1.635975</td>\n",
       "      <td>0.453773</td>\n",
       "      <td>0.425629</td>\n",
       "      <td>1.104875</td>\n",
       "      <td>1.282322</td>\n",
       "      <td>1.381664</td>\n",
       "      <td>0.000000</td>\n",
       "      <td>...</td>\n",
       "      <td>1.128848</td>\n",
       "      <td>0.900461</td>\n",
       "      <td>0.000000</td>\n",
       "      <td>0.909753</td>\n",
       "      <td>1.108330</td>\n",
       "      <td>0.985692</td>\n",
       "      <td>0.951331</td>\n",
       "      <td>0.803252</td>\n",
       "      <td>0.865924</td>\n",
       "      <td>0.780118</td>\n",
       "    </tr>\n",
       "    <tr>\n",
       "      <th>3</th>\n",
       "      <td>0.0</td>\n",
       "      <td>1.344385</td>\n",
       "      <td>-0.876626</td>\n",
       "      <td>0.935913</td>\n",
       "      <td>1.992050</td>\n",
       "      <td>0.882454</td>\n",
       "      <td>1.786066</td>\n",
       "      <td>-1.646778</td>\n",
       "      <td>-0.942383</td>\n",
       "      <td>0.000000</td>\n",
       "      <td>...</td>\n",
       "      <td>-0.678379</td>\n",
       "      <td>-1.360356</td>\n",
       "      <td>0.000000</td>\n",
       "      <td>0.946652</td>\n",
       "      <td>1.028704</td>\n",
       "      <td>0.998656</td>\n",
       "      <td>0.728281</td>\n",
       "      <td>0.869200</td>\n",
       "      <td>1.026736</td>\n",
       "      <td>0.957904</td>\n",
       "    </tr>\n",
       "    <tr>\n",
       "      <th>4</th>\n",
       "      <td>1.0</td>\n",
       "      <td>1.105009</td>\n",
       "      <td>0.321356</td>\n",
       "      <td>1.522401</td>\n",
       "      <td>0.882808</td>\n",
       "      <td>-1.205349</td>\n",
       "      <td>0.681466</td>\n",
       "      <td>-1.070464</td>\n",
       "      <td>-0.921871</td>\n",
       "      <td>0.000000</td>\n",
       "      <td>...</td>\n",
       "      <td>-0.373566</td>\n",
       "      <td>0.113041</td>\n",
       "      <td>0.000000</td>\n",
       "      <td>0.755856</td>\n",
       "      <td>1.361057</td>\n",
       "      <td>0.986610</td>\n",
       "      <td>0.838085</td>\n",
       "      <td>1.133295</td>\n",
       "      <td>0.872245</td>\n",
       "      <td>0.808487</td>\n",
       "    </tr>\n",
       "  </tbody>\n",
       "</table>\n",
       "<p>5 rows × 29 columns</p>\n",
       "</div>"
      ],
      "text/plain": [
       "   class_label  lepton pT  lepton eta  lepton phi  missing energy magnitude  \\\n",
       "0          1.0   0.869293   -0.635082    0.225690                  0.327470   \n",
       "1          1.0   0.907542    0.329147    0.359412                  1.497970   \n",
       "2          1.0   0.798835    1.470639   -1.635975                  0.453773   \n",
       "3          0.0   1.344385   -0.876626    0.935913                  1.992050   \n",
       "4          1.0   1.105009    0.321356    1.522401                  0.882808   \n",
       "\n",
       "   missing energy phi  jet 1 pt  jet 1 eta  jet 1 phi  jet 1 b-tag  ...  \\\n",
       "0           -0.689993  0.754202  -0.248573  -1.092064     0.000000  ...   \n",
       "1           -0.313010  1.095531  -0.557525  -1.588230     2.173076  ...   \n",
       "2            0.425629  1.104875   1.282322   1.381664     0.000000  ...   \n",
       "3            0.882454  1.786066  -1.646778  -0.942383     0.000000  ...   \n",
       "4           -1.205349  0.681466  -1.070464  -0.921871     0.000000  ...   \n",
       "\n",
       "   jet 4 eta  jet 4 phi  jet 4 b-tag      m_jj     m_jjj      m_lv     m_jlv  \\\n",
       "0  -0.010455  -0.045767     3.101961  1.353760  0.979563  0.978076  0.920005   \n",
       "1  -1.138930  -0.000819     0.000000  0.302220  0.833048  0.985700  0.978098   \n",
       "2   1.128848   0.900461     0.000000  0.909753  1.108330  0.985692  0.951331   \n",
       "3  -0.678379  -1.360356     0.000000  0.946652  1.028704  0.998656  0.728281   \n",
       "4  -0.373566   0.113041     0.000000  0.755856  1.361057  0.986610  0.838085   \n",
       "\n",
       "       m_bb     m_wbb    m_wwbb  \n",
       "0  0.721657  0.988751  0.876678  \n",
       "1  0.779732  0.992356  0.798343  \n",
       "2  0.803252  0.865924  0.780118  \n",
       "3  0.869200  1.026736  0.957904  \n",
       "4  1.133295  0.872245  0.808487  \n",
       "\n",
       "[5 rows x 29 columns]"
      ]
     },
     "execution_count": 6,
     "metadata": {},
     "output_type": "execute_result"
    }
   ],
   "source": [
    "higgs_data.head()"
   ]
  },
  {
   "cell_type": "code",
   "execution_count": 7,
   "id": "south-federal",
   "metadata": {},
   "outputs": [
    {
     "data": {
      "text/plain": [
       "(11000000, 29)"
      ]
     },
     "execution_count": 7,
     "metadata": {},
     "output_type": "execute_result"
    }
   ],
   "source": [
    "higgs_data.shape"
   ]
  },
  {
   "cell_type": "code",
   "execution_count": 8,
   "id": "earlier-jewelry",
   "metadata": {},
   "outputs": [
    {
     "data": {
      "text/html": [
       "<div>\n",
       "<style scoped>\n",
       "    .dataframe tbody tr th:only-of-type {\n",
       "        vertical-align: middle;\n",
       "    }\n",
       "\n",
       "    .dataframe tbody tr th {\n",
       "        vertical-align: top;\n",
       "    }\n",
       "\n",
       "    .dataframe thead th {\n",
       "        text-align: right;\n",
       "    }\n",
       "</style>\n",
       "<table border=\"1\" class=\"dataframe\">\n",
       "  <thead>\n",
       "    <tr style=\"text-align: right;\">\n",
       "      <th></th>\n",
       "      <th>class_label</th>\n",
       "      <th>lepton pT</th>\n",
       "      <th>lepton eta</th>\n",
       "      <th>lepton phi</th>\n",
       "      <th>missing energy magnitude</th>\n",
       "      <th>missing energy phi</th>\n",
       "      <th>jet 1 pt</th>\n",
       "      <th>jet 1 eta</th>\n",
       "      <th>jet 1 phi</th>\n",
       "      <th>jet 1 b-tag</th>\n",
       "      <th>...</th>\n",
       "      <th>jet 4 eta</th>\n",
       "      <th>jet 4 phi</th>\n",
       "      <th>jet 4 b-tag</th>\n",
       "      <th>m_jj</th>\n",
       "      <th>m_jjj</th>\n",
       "      <th>m_lv</th>\n",
       "      <th>m_jlv</th>\n",
       "      <th>m_bb</th>\n",
       "      <th>m_wbb</th>\n",
       "      <th>m_wwbb</th>\n",
       "    </tr>\n",
       "  </thead>\n",
       "  <tbody>\n",
       "    <tr>\n",
       "      <th>count</th>\n",
       "      <td>1.100000e+07</td>\n",
       "      <td>1.100000e+07</td>\n",
       "      <td>1.100000e+07</td>\n",
       "      <td>1.100000e+07</td>\n",
       "      <td>1.100000e+07</td>\n",
       "      <td>1.100000e+07</td>\n",
       "      <td>1.100000e+07</td>\n",
       "      <td>1.100000e+07</td>\n",
       "      <td>1.100000e+07</td>\n",
       "      <td>1.100000e+07</td>\n",
       "      <td>...</td>\n",
       "      <td>1.100000e+07</td>\n",
       "      <td>1.100000e+07</td>\n",
       "      <td>1.100000e+07</td>\n",
       "      <td>1.100000e+07</td>\n",
       "      <td>1.100000e+07</td>\n",
       "      <td>1.100000e+07</td>\n",
       "      <td>1.100000e+07</td>\n",
       "      <td>1.100000e+07</td>\n",
       "      <td>1.100000e+07</td>\n",
       "      <td>1.100000e+07</td>\n",
       "    </tr>\n",
       "    <tr>\n",
       "      <th>mean</th>\n",
       "      <td>5.299200e-01</td>\n",
       "      <td>9.914660e-01</td>\n",
       "      <td>-8.000000e-06</td>\n",
       "      <td>-1.300000e-05</td>\n",
       "      <td>9.985360e-01</td>\n",
       "      <td>2.600000e-05</td>\n",
       "      <td>9.909150e-01</td>\n",
       "      <td>-2.000000e-05</td>\n",
       "      <td>8.000000e-06</td>\n",
       "      <td>9.999690e-01</td>\n",
       "      <td>...</td>\n",
       "      <td>-6.000000e-06</td>\n",
       "      <td>1.700000e-05</td>\n",
       "      <td>1.000000e+00</td>\n",
       "      <td>1.034290e+00</td>\n",
       "      <td>1.024805e+00</td>\n",
       "      <td>1.050554e+00</td>\n",
       "      <td>1.009742e+00</td>\n",
       "      <td>9.729600e-01</td>\n",
       "      <td>1.033036e+00</td>\n",
       "      <td>9.598120e-01</td>\n",
       "    </tr>\n",
       "    <tr>\n",
       "      <th>std</th>\n",
       "      <td>4.991040e-01</td>\n",
       "      <td>5.653780e-01</td>\n",
       "      <td>1.008827e+00</td>\n",
       "      <td>1.006346e+00</td>\n",
       "      <td>6.000180e-01</td>\n",
       "      <td>1.006326e+00</td>\n",
       "      <td>4.749750e-01</td>\n",
       "      <td>1.009303e+00</td>\n",
       "      <td>1.005901e+00</td>\n",
       "      <td>1.027808e+00</td>\n",
       "      <td>...</td>\n",
       "      <td>1.007694e+00</td>\n",
       "      <td>1.006366e+00</td>\n",
       "      <td>1.400209e+00</td>\n",
       "      <td>6.746350e-01</td>\n",
       "      <td>3.808070e-01</td>\n",
       "      <td>1.645760e-01</td>\n",
       "      <td>3.974450e-01</td>\n",
       "      <td>5.254060e-01</td>\n",
       "      <td>3.652560e-01</td>\n",
       "      <td>3.133380e-01</td>\n",
       "    </tr>\n",
       "    <tr>\n",
       "      <th>min</th>\n",
       "      <td>0.000000e+00</td>\n",
       "      <td>2.746970e-01</td>\n",
       "      <td>-2.434976e+00</td>\n",
       "      <td>-1.742508e+00</td>\n",
       "      <td>2.370000e-04</td>\n",
       "      <td>-1.743944e+00</td>\n",
       "      <td>1.375020e-01</td>\n",
       "      <td>-2.969725e+00</td>\n",
       "      <td>-1.741237e+00</td>\n",
       "      <td>0.000000e+00</td>\n",
       "      <td>...</td>\n",
       "      <td>-2.497265e+00</td>\n",
       "      <td>-1.742691e+00</td>\n",
       "      <td>0.000000e+00</td>\n",
       "      <td>7.507000e-02</td>\n",
       "      <td>1.986760e-01</td>\n",
       "      <td>8.304900e-02</td>\n",
       "      <td>1.320060e-01</td>\n",
       "      <td>4.786200e-02</td>\n",
       "      <td>2.951120e-01</td>\n",
       "      <td>3.307210e-01</td>\n",
       "    </tr>\n",
       "    <tr>\n",
       "      <th>25%</th>\n",
       "      <td>0.000000e+00</td>\n",
       "      <td>5.907530e-01</td>\n",
       "      <td>-7.383220e-01</td>\n",
       "      <td>-8.719310e-01</td>\n",
       "      <td>5.768160e-01</td>\n",
       "      <td>-8.712080e-01</td>\n",
       "      <td>6.789930e-01</td>\n",
       "      <td>-6.872450e-01</td>\n",
       "      <td>-8.680960e-01</td>\n",
       "      <td>0.000000e+00</td>\n",
       "      <td>...</td>\n",
       "      <td>-7.141900e-01</td>\n",
       "      <td>-8.714790e-01</td>\n",
       "      <td>0.000000e+00</td>\n",
       "      <td>7.906100e-01</td>\n",
       "      <td>8.462270e-01</td>\n",
       "      <td>9.857520e-01</td>\n",
       "      <td>7.675730e-01</td>\n",
       "      <td>6.738170e-01</td>\n",
       "      <td>8.193960e-01</td>\n",
       "      <td>7.703900e-01</td>\n",
       "    </tr>\n",
       "    <tr>\n",
       "      <th>50%</th>\n",
       "      <td>1.000000e+00</td>\n",
       "      <td>8.533710e-01</td>\n",
       "      <td>-5.400000e-05</td>\n",
       "      <td>-2.410000e-04</td>\n",
       "      <td>8.916280e-01</td>\n",
       "      <td>2.130000e-04</td>\n",
       "      <td>8.948190e-01</td>\n",
       "      <td>-2.500000e-05</td>\n",
       "      <td>5.800000e-05</td>\n",
       "      <td>1.086538e+00</td>\n",
       "      <td>...</td>\n",
       "      <td>3.720000e-04</td>\n",
       "      <td>-2.640000e-04</td>\n",
       "      <td>0.000000e+00</td>\n",
       "      <td>8.949300e-01</td>\n",
       "      <td>9.506850e-01</td>\n",
       "      <td>9.897800e-01</td>\n",
       "      <td>9.165110e-01</td>\n",
       "      <td>8.733800e-01</td>\n",
       "      <td>9.473450e-01</td>\n",
       "      <td>8.719700e-01</td>\n",
       "    </tr>\n",
       "    <tr>\n",
       "      <th>75%</th>\n",
       "      <td>1.000000e+00</td>\n",
       "      <td>1.236226e+00</td>\n",
       "      <td>7.382140e-01</td>\n",
       "      <td>8.709940e-01</td>\n",
       "      <td>1.293056e+00</td>\n",
       "      <td>8.714710e-01</td>\n",
       "      <td>1.170740e+00</td>\n",
       "      <td>6.871940e-01</td>\n",
       "      <td>8.683130e-01</td>\n",
       "      <td>2.173076e+00</td>\n",
       "      <td>...</td>\n",
       "      <td>7.141020e-01</td>\n",
       "      <td>8.716050e-01</td>\n",
       "      <td>3.101961e+00</td>\n",
       "      <td>1.024730e+00</td>\n",
       "      <td>1.083493e+00</td>\n",
       "      <td>1.020528e+00</td>\n",
       "      <td>1.142226e+00</td>\n",
       "      <td>1.138439e+00</td>\n",
       "      <td>1.140458e+00</td>\n",
       "      <td>1.059248e+00</td>\n",
       "    </tr>\n",
       "    <tr>\n",
       "      <th>max</th>\n",
       "      <td>1.000000e+00</td>\n",
       "      <td>1.209891e+01</td>\n",
       "      <td>2.434868e+00</td>\n",
       "      <td>1.743236e+00</td>\n",
       "      <td>1.539682e+01</td>\n",
       "      <td>1.743257e+00</td>\n",
       "      <td>9.940391e+00</td>\n",
       "      <td>2.969674e+00</td>\n",
       "      <td>1.741454e+00</td>\n",
       "      <td>2.173076e+00</td>\n",
       "      <td>...</td>\n",
       "      <td>2.498009e+00</td>\n",
       "      <td>1.743372e+00</td>\n",
       "      <td>3.101961e+00</td>\n",
       "      <td>4.019237e+01</td>\n",
       "      <td>2.037278e+01</td>\n",
       "      <td>7.992739e+00</td>\n",
       "      <td>1.426244e+01</td>\n",
       "      <td>1.776285e+01</td>\n",
       "      <td>1.149652e+01</td>\n",
       "      <td>8.374498e+00</td>\n",
       "    </tr>\n",
       "  </tbody>\n",
       "</table>\n",
       "<p>8 rows × 29 columns</p>\n",
       "</div>"
      ],
      "text/plain": [
       "        class_label     lepton pT    lepton eta    lepton phi  \\\n",
       "count  1.100000e+07  1.100000e+07  1.100000e+07  1.100000e+07   \n",
       "mean   5.299200e-01  9.914660e-01 -8.000000e-06 -1.300000e-05   \n",
       "std    4.991040e-01  5.653780e-01  1.008827e+00  1.006346e+00   \n",
       "min    0.000000e+00  2.746970e-01 -2.434976e+00 -1.742508e+00   \n",
       "25%    0.000000e+00  5.907530e-01 -7.383220e-01 -8.719310e-01   \n",
       "50%    1.000000e+00  8.533710e-01 -5.400000e-05 -2.410000e-04   \n",
       "75%    1.000000e+00  1.236226e+00  7.382140e-01  8.709940e-01   \n",
       "max    1.000000e+00  1.209891e+01  2.434868e+00  1.743236e+00   \n",
       "\n",
       "       missing energy magnitude  missing energy phi      jet 1 pt  \\\n",
       "count              1.100000e+07        1.100000e+07  1.100000e+07   \n",
       "mean               9.985360e-01        2.600000e-05  9.909150e-01   \n",
       "std                6.000180e-01        1.006326e+00  4.749750e-01   \n",
       "min                2.370000e-04       -1.743944e+00  1.375020e-01   \n",
       "25%                5.768160e-01       -8.712080e-01  6.789930e-01   \n",
       "50%                8.916280e-01        2.130000e-04  8.948190e-01   \n",
       "75%                1.293056e+00        8.714710e-01  1.170740e+00   \n",
       "max                1.539682e+01        1.743257e+00  9.940391e+00   \n",
       "\n",
       "          jet 1 eta     jet 1 phi   jet 1 b-tag  ...     jet 4 eta  \\\n",
       "count  1.100000e+07  1.100000e+07  1.100000e+07  ...  1.100000e+07   \n",
       "mean  -2.000000e-05  8.000000e-06  9.999690e-01  ... -6.000000e-06   \n",
       "std    1.009303e+00  1.005901e+00  1.027808e+00  ...  1.007694e+00   \n",
       "min   -2.969725e+00 -1.741237e+00  0.000000e+00  ... -2.497265e+00   \n",
       "25%   -6.872450e-01 -8.680960e-01  0.000000e+00  ... -7.141900e-01   \n",
       "50%   -2.500000e-05  5.800000e-05  1.086538e+00  ...  3.720000e-04   \n",
       "75%    6.871940e-01  8.683130e-01  2.173076e+00  ...  7.141020e-01   \n",
       "max    2.969674e+00  1.741454e+00  2.173076e+00  ...  2.498009e+00   \n",
       "\n",
       "          jet 4 phi   jet 4 b-tag          m_jj         m_jjj          m_lv  \\\n",
       "count  1.100000e+07  1.100000e+07  1.100000e+07  1.100000e+07  1.100000e+07   \n",
       "mean   1.700000e-05  1.000000e+00  1.034290e+00  1.024805e+00  1.050554e+00   \n",
       "std    1.006366e+00  1.400209e+00  6.746350e-01  3.808070e-01  1.645760e-01   \n",
       "min   -1.742691e+00  0.000000e+00  7.507000e-02  1.986760e-01  8.304900e-02   \n",
       "25%   -8.714790e-01  0.000000e+00  7.906100e-01  8.462270e-01  9.857520e-01   \n",
       "50%   -2.640000e-04  0.000000e+00  8.949300e-01  9.506850e-01  9.897800e-01   \n",
       "75%    8.716050e-01  3.101961e+00  1.024730e+00  1.083493e+00  1.020528e+00   \n",
       "max    1.743372e+00  3.101961e+00  4.019237e+01  2.037278e+01  7.992739e+00   \n",
       "\n",
       "              m_jlv          m_bb         m_wbb        m_wwbb  \n",
       "count  1.100000e+07  1.100000e+07  1.100000e+07  1.100000e+07  \n",
       "mean   1.009742e+00  9.729600e-01  1.033036e+00  9.598120e-01  \n",
       "std    3.974450e-01  5.254060e-01  3.652560e-01  3.133380e-01  \n",
       "min    1.320060e-01  4.786200e-02  2.951120e-01  3.307210e-01  \n",
       "25%    7.675730e-01  6.738170e-01  8.193960e-01  7.703900e-01  \n",
       "50%    9.165110e-01  8.733800e-01  9.473450e-01  8.719700e-01  \n",
       "75%    1.142226e+00  1.138439e+00  1.140458e+00  1.059248e+00  \n",
       "max    1.426244e+01  1.776285e+01  1.149652e+01  8.374498e+00  \n",
       "\n",
       "[8 rows x 29 columns]"
      ]
     },
     "execution_count": 8,
     "metadata": {},
     "output_type": "execute_result"
    }
   ],
   "source": [
    "higgs_data.describe()"
   ]
  },
  {
   "cell_type": "code",
   "execution_count": 9,
   "id": "excessive-petersburg",
   "metadata": {},
   "outputs": [
    {
     "name": "stdout",
     "output_type": "stream",
     "text": [
      "<class 'cudf.core.dataframe.DataFrame'>\n",
      "RangeIndex: 11000000 entries, 0 to 10999999\n",
      "Data columns (total 29 columns):\n",
      " #   Column                    Dtype\n",
      "---  ------                    -----\n",
      " 0   class_label               float64\n",
      " 1   lepton pT                 float64\n",
      " 2   lepton eta                float64\n",
      " 3   lepton phi                float64\n",
      " 4   missing energy magnitude  float64\n",
      " 5   missing energy phi        float64\n",
      " 6   jet 1 pt                  float64\n",
      " 7   jet 1 eta                 float64\n",
      " 8   jet 1 phi                 float64\n",
      " 9   jet 1 b-tag               float64\n",
      " 10  jet 2 pt                  float64\n",
      " 11  jet 2 eta                 float64\n",
      " 12  jet 2 phi                 float64\n",
      " 13  jet 2 b-tag               float64\n",
      " 14  jet 3 pt                  float64\n",
      " 15  jet 3 eta                 float64\n",
      " 16  jet 3 phi                 float64\n",
      " 17  jet 3 b-tag               float64\n",
      " 18  jet 4 pt                  float64\n",
      " 19  jet 4 eta                 float64\n",
      " 20  jet 4 phi                 float64\n",
      " 21  jet 4 b-tag               float64\n",
      " 22  m_jj                      float64\n",
      " 23  m_jjj                     float64\n",
      " 24  m_lv                      float64\n",
      " 25  m_jlv                     float64\n",
      " 26  m_bb                      float64\n",
      " 27  m_wbb                     float64\n",
      " 28  m_wwbb                    float64\n",
      "dtypes: float64(29)\n",
      "memory usage: 2.4 GB\n"
     ]
    }
   ],
   "source": [
    "higgs_data.info()"
   ]
  },
  {
   "cell_type": "markdown",
   "id": "allied-williams",
   "metadata": {},
   "source": [
    "### Data visualisations:"
   ]
  },
  {
   "cell_type": "code",
   "execution_count": 10,
   "id": "infinite-guarantee",
   "metadata": {},
   "outputs": [],
   "source": [
    "import pandas as pd\n",
    "import numpy as np\n",
    "import seaborn as sns\n",
    "import matplotlib.pyplot as plt\n",
    "from sklearn.model_selection import train_test_split\n",
    "from sklearn.preprocessing import normalize"
   ]
  },
  {
   "cell_type": "code",
   "execution_count": 12,
   "id": "packed-settlement",
   "metadata": {},
   "outputs": [],
   "source": [
    "event = higgs_data.iloc[:,0]\n",
    "event_array = cupy.asarray(event)\n",
    "noise_index = []\n",
    "signal_index = []\n",
    "for i in range(len(event_array)):\n",
    "    if event_array[i] == 0:\n",
    "        noise_index.append(i)\n",
    "    if event_array[i] == 1:\n",
    "        signal_index.append(i)"
   ]
  },
  {
   "cell_type": "code",
   "execution_count": 13,
   "id": "spiritual-papua",
   "metadata": {},
   "outputs": [],
   "source": [
    "noise_index = cupy.asarray(noise_index)\n",
    "signal_index = cupy.asarray(signal_index)\n",
    "feature_name = ['lepton pT', 'lepton eta', 'lepton phi', 'missing energy magnitude', 'missing energy phi', 'jet 1 pt', \n",
    "                'jet 1 eta', 'jet 1 phi', 'jet 1 b-tag', 'jet 2 pt', 'jet 2 eta', 'jet 2 phi', 'jet 2 b-tag', \n",
    "                'jet 3 pt', 'jet 3 eta', 'jet 3 phi', 'jet 3 b-tag', 'jet 4 pt', 'jet 4 eta', 'jet 4 phi', 'jet 4 b-tag', \n",
    "                'm_jj', 'm_jjj', 'm_lv', 'm_jlv', 'm_bb', 'm_wbb', 'm_wwbb']"
   ]
  },
  {
   "cell_type": "code",
   "execution_count": 18,
   "id": "cardiovascular-logistics",
   "metadata": {},
   "outputs": [
    {
     "data": {
      "image/png": "[encoded data removed]",
      "text/plain": [
       "<Figure size 432x288 with 1 Axes>"
      ]
     },
     "metadata": {
      "needs_background": "light"
     },
     "output_type": "display_data"
    },
    {
     "data": {
      "image/png": "[encoded data removed]",
      "text/plain": [
       "<Figure size 432x288 with 1 Axes>"
      ]
     },
     "metadata": {
      "needs_background": "light"
     },
     "output_type": "display_data"
    },
    {
     "data": {
      "image/png": "[encoded data removed]",
      "text/plain": [
       "<Figure size 432x288 with 1 Axes>"
      ]
     },
     "metadata": {
      "needs_background": "light"
     },
     "output_type": "display_data"
    },
    {
     "data": {
      "image/png": "[encoded data removed]",
      "text/plain": [
       "<Figure size 432x288 with 1 Axes>"
      ]
     },
     "metadata": {
      "needs_background": "light"
     },
     "output_type": "display_data"
    },
    {
     "data": {
      "image/png": "[encoded data removed]",
      "text/plain": [
       "<Figure size 432x288 with 1 Axes>"
      ]
     },
     "metadata": {
      "needs_background": "light"
     },
     "output_type": "display_data"
    },
    {
     "data": {
      "image/png": "[encoded data removed]",
      "text/plain": [
       "<Figure size 432x288 with 1 Axes>"
      ]
     },
     "metadata": {
      "needs_background": "light"
     },
     "output_type": "display_data"
    },
    {
     "data": {
      "image/png": "[encoded data removed]",
      "text/plain": [
       "<Figure size 432x288 with 1 Axes>"
      ]
     },
     "metadata": {
      "needs_background": "light"
     },
     "output_type": "display_data"
    },
    {
     "data": {
      "image/png": "[encoded data removed]",
      "text/plain": [
       "<Figure size 432x288 with 1 Axes>"
      ]
     },
     "metadata": {
      "needs_background": "light"
     },
     "output_type": "display_data"
    },
    {
     "data": {
      "image/png": "[encoded data removed]",
      "text/plain": [
       "<Figure size 432x288 with 1 Axes>"
      ]
     },
     "metadata": {
      "needs_background": "light"
     },
     "output_type": "display_data"
    },
    {
     "data": {
      "image/png": "[encoded data removed]",
      "text/plain": [
       "<Figure size 432x288 with 1 Axes>"
      ]
     },
     "metadata": {
      "needs_background": "light"
     },
     "output_type": "display_data"
    },
    {
     "data": {
      "image/png": "[encoded data removed]",
      "text/plain": [
       "<Figure size 432x288 with 1 Axes>"
      ]
     },
     "metadata": {
      "needs_background": "light"
     },
     "output_type": "display_data"
    },
    {
     "data": {
      "image/png": "[encoded data removed]",
      "text/plain": [
       "<Figure size 432x288 with 1 Axes>"
      ]
     },
     "metadata": {
      "needs_background": "light"
     },
     "output_type": "display_data"
    },
    {
     "data": {
      "image/png": "[encoded data removed]",
      "text/plain": [
       "<Figure size 432x288 with 1 Axes>"
      ]
     },
     "metadata": {
      "needs_background": "light"
     },
     "output_type": "display_data"
    },
    {
     "data": {
      "image/png": "[encoded data removed]",
      "text/plain": [
       "<Figure size 432x288 with 1 Axes>"
      ]
     },
     "metadata": {
      "needs_background": "light"
     },
     "output_type": "display_data"
    },
    {
     "data": {
      "image/png": "[encoded data removed]",
      "text/plain": [
       "<Figure size 432x288 with 1 Axes>"
      ]
     },
     "metadata": {
      "needs_background": "light"
     },
     "output_type": "display_data"
    },
    {
     "data": {
      "image/png": "[encoded data removed]",
      "text/plain": [
       "<Figure size 432x288 with 1 Axes>"
      ]
     },
     "metadata": {
      "needs_background": "light"
     },
     "output_type": "display_data"
    },
    {
     "data": {
      "image/png": "[encoded data removed]",
      "text/plain": [
       "<Figure size 432x288 with 1 Axes>"
      ]
     },
     "metadata": {
      "needs_background": "light"
     },
     "output_type": "display_data"
    },
    {
     "data": {
      "image/png": "[encoded data removed]",
      "text/plain": [
       "<Figure size 432x288 with 1 Axes>"
      ]
     },
     "metadata": {
      "needs_background": "light"
     },
     "output_type": "display_data"
    },
    {
     "data": {
      "image/png": "[encoded data removed]",
      "text/plain": [
       "<Figure size 432x288 with 1 Axes>"
      ]
     },
     "metadata": {
      "needs_background": "light"
     },
     "output_type": "display_data"
    },
    {
     "data": {
      "image/png": "[encoded data removed]",
      "text/plain": [
       "<Figure size 432x288 with 1 Axes>"
      ]
     },
     "metadata": {
      "needs_background": "light"
     },
     "output_type": "display_data"
    },
    {
     "data": {
      "image/png": "[encoded data removed]",
      "text/plain": [
       "<Figure size 432x288 with 1 Axes>"
      ]
     },
     "metadata": {
      "needs_background": "light"
     },
     "output_type": "display_data"
    },
    {
     "data": {
      "image/png": "[encoded data removed]",
      "text/plain": [
       "<Figure size 432x288 with 1 Axes>"
      ]
     },
     "metadata": {
      "needs_background": "light"
     },
     "output_type": "display_data"
    },
    {
     "data": {
      "image/png": "[encoded data removed]",
      "text/plain": [
       "<Figure size 432x288 with 1 Axes>"
      ]
     },
     "metadata": {
      "needs_background": "light"
     },
     "output_type": "display_data"
    },
    {
     "data": {
      "image/png": "[encoded data removed]",
      "text/plain": [
       "<Figure size 432x288 with 1 Axes>"
      ]
     },
     "metadata": {
      "needs_background": "light"
     },
     "output_type": "display_data"
    },
    {
     "data": {
      "image/png": "[encoded data removed]",
      "text/plain": [
       "<Figure size 432x288 with 1 Axes>"
      ]
     },
     "metadata": {
      "needs_background": "light"
     },
     "output_type": "display_data"
    },
    {
     "data": {
      "image/png": "[encoded data removed]",
      "text/plain": [
       "<Figure size 432x288 with 1 Axes>"
      ]
     },
     "metadata": {
      "needs_background": "light"
     },
     "output_type": "display_data"
    },
    {
     "data": {
      "image/png": "[encoded data removed]",
      "text/plain": [
       "<Figure size 432x288 with 1 Axes>"
      ]
     },
     "metadata": {
      "needs_background": "light"
     },
     "output_type": "display_data"
    },
    {
     "data": {
      "image/png": "[encoded data removed]",
      "text/plain": [
       "<Figure size 432x288 with 1 Axes>"
      ]
     },
     "metadata": {
      "needs_background": "light"
     },
     "output_type": "display_data"
    }
   ],
   "source": [
    "for j in range(1,29):\n",
    "    feature = higgs_data.iloc[:,j]\n",
    "    feature = cupy.asarray(feature)\n",
    "    feature_noise = []\n",
    "    feature_signal = []\n",
    "    for i in range(len(noise_index)):\n",
    "        feature_noise.append(feature[noise_index[i]])\n",
    "    for i in range(len(signal_index)):\n",
    "        feature_signal.append(feature[signal_index[i]])\n",
    "    legend_signal = 'Feature ' + str(j)\n",
    "    legend_noise = 'Noise ' + str(j)\n",
    "    plt.figure(j)\n",
    "    sns.distplot(feature_signal, label = 'signal', kde = False, norm_hist = True)\n",
    "    sns.distplot(feature_noise, label = 'background', kde = False, norm_hist = True)\n",
    "    plt.xlabel(feature_name[j-1])\n",
    "    plt.legend()"
   ]
  },
  {
   "cell_type": "markdown",
   "id": "heavy-prison",
   "metadata": {},
   "source": [
    "Here the blue is a signal histogram and the orange is a background histogram. As you might be able to tell, the first 21 features are nearly indistinughishable from one another, but the last seven features give easily discernable differences, with different peak heights and different peak locations. These histograms make it very clear why physicists have gone the extra length to create these seven high level features.\n",
    "\n",
    "### implement appropriate dimensionality reduction techniques with RAPIDS"
   ]
  },
  {
   "cell_type": "code",
   "execution_count": 11,
   "id": "physical-rebound",
   "metadata": {},
   "outputs": [
    {
     "data": {
      "text/html": [
       "<div>\n",
       "<style scoped>\n",
       "    .dataframe tbody tr th:only-of-type {\n",
       "        vertical-align: middle;\n",
       "    }\n",
       "\n",
       "    .dataframe tbody tr th {\n",
       "        vertical-align: top;\n",
       "    }\n",
       "\n",
       "    .dataframe thead th {\n",
       "        text-align: right;\n",
       "    }\n",
       "</style>\n",
       "<table border=\"1\" class=\"dataframe\">\n",
       "  <thead>\n",
       "    <tr style=\"text-align: right;\">\n",
       "      <th></th>\n",
       "      <th>lepton pT</th>\n",
       "      <th>lepton eta</th>\n",
       "      <th>lepton phi</th>\n",
       "      <th>missing energy magnitude</th>\n",
       "      <th>missing energy phi</th>\n",
       "      <th>jet 1 pt</th>\n",
       "      <th>jet 1 eta</th>\n",
       "      <th>jet 1 phi</th>\n",
       "      <th>jet 1 b-tag</th>\n",
       "      <th>jet 2 pt</th>\n",
       "      <th>...</th>\n",
       "      <th>jet 4 eta</th>\n",
       "      <th>jet 4 phi</th>\n",
       "      <th>jet 4 b-tag</th>\n",
       "      <th>m_jj</th>\n",
       "      <th>m_jjj</th>\n",
       "      <th>m_lv</th>\n",
       "      <th>m_jlv</th>\n",
       "      <th>m_bb</th>\n",
       "      <th>m_wbb</th>\n",
       "      <th>m_wwbb</th>\n",
       "    </tr>\n",
       "  </thead>\n",
       "  <tbody>\n",
       "    <tr>\n",
       "      <th>0</th>\n",
       "      <td>0.869293</td>\n",
       "      <td>-0.635082</td>\n",
       "      <td>0.225690</td>\n",
       "      <td>0.327470</td>\n",
       "      <td>-0.689993</td>\n",
       "      <td>0.754202</td>\n",
       "      <td>-0.248573</td>\n",
       "      <td>-1.092064</td>\n",
       "      <td>0.000000</td>\n",
       "      <td>1.374992</td>\n",
       "      <td>...</td>\n",
       "      <td>-0.010455</td>\n",
       "      <td>-0.045767</td>\n",
       "      <td>3.101961</td>\n",
       "      <td>1.353760</td>\n",
       "      <td>0.979563</td>\n",
       "      <td>0.978076</td>\n",
       "      <td>0.920005</td>\n",
       "      <td>0.721657</td>\n",
       "      <td>0.988751</td>\n",
       "      <td>0.876678</td>\n",
       "    </tr>\n",
       "    <tr>\n",
       "      <th>1</th>\n",
       "      <td>0.907542</td>\n",
       "      <td>0.329147</td>\n",
       "      <td>0.359412</td>\n",
       "      <td>1.497970</td>\n",
       "      <td>-0.313010</td>\n",
       "      <td>1.095531</td>\n",
       "      <td>-0.557525</td>\n",
       "      <td>-1.588230</td>\n",
       "      <td>2.173076</td>\n",
       "      <td>0.812581</td>\n",
       "      <td>...</td>\n",
       "      <td>-1.138930</td>\n",
       "      <td>-0.000819</td>\n",
       "      <td>0.000000</td>\n",
       "      <td>0.302220</td>\n",
       "      <td>0.833048</td>\n",
       "      <td>0.985700</td>\n",
       "      <td>0.978098</td>\n",
       "      <td>0.779732</td>\n",
       "      <td>0.992356</td>\n",
       "      <td>0.798343</td>\n",
       "    </tr>\n",
       "    <tr>\n",
       "      <th>2</th>\n",
       "      <td>0.798835</td>\n",
       "      <td>1.470639</td>\n",
       "      <td>-1.635975</td>\n",
       "      <td>0.453773</td>\n",
       "      <td>0.425629</td>\n",
       "      <td>1.104875</td>\n",
       "      <td>1.282322</td>\n",
       "      <td>1.381664</td>\n",
       "      <td>0.000000</td>\n",
       "      <td>0.851737</td>\n",
       "      <td>...</td>\n",
       "      <td>1.128848</td>\n",
       "      <td>0.900461</td>\n",
       "      <td>0.000000</td>\n",
       "      <td>0.909753</td>\n",
       "      <td>1.108330</td>\n",
       "      <td>0.985692</td>\n",
       "      <td>0.951331</td>\n",
       "      <td>0.803252</td>\n",
       "      <td>0.865924</td>\n",
       "      <td>0.780118</td>\n",
       "    </tr>\n",
       "    <tr>\n",
       "      <th>3</th>\n",
       "      <td>1.344385</td>\n",
       "      <td>-0.876626</td>\n",
       "      <td>0.935913</td>\n",
       "      <td>1.992050</td>\n",
       "      <td>0.882454</td>\n",
       "      <td>1.786066</td>\n",
       "      <td>-1.646778</td>\n",
       "      <td>-0.942383</td>\n",
       "      <td>0.000000</td>\n",
       "      <td>2.423265</td>\n",
       "      <td>...</td>\n",
       "      <td>-0.678379</td>\n",
       "      <td>-1.360356</td>\n",
       "      <td>0.000000</td>\n",
       "      <td>0.946652</td>\n",
       "      <td>1.028704</td>\n",
       "      <td>0.998656</td>\n",
       "      <td>0.728281</td>\n",
       "      <td>0.869200</td>\n",
       "      <td>1.026736</td>\n",
       "      <td>0.957904</td>\n",
       "    </tr>\n",
       "    <tr>\n",
       "      <th>4</th>\n",
       "      <td>1.105009</td>\n",
       "      <td>0.321356</td>\n",
       "      <td>1.522401</td>\n",
       "      <td>0.882808</td>\n",
       "      <td>-1.205349</td>\n",
       "      <td>0.681466</td>\n",
       "      <td>-1.070464</td>\n",
       "      <td>-0.921871</td>\n",
       "      <td>0.000000</td>\n",
       "      <td>0.800872</td>\n",
       "      <td>...</td>\n",
       "      <td>-0.373566</td>\n",
       "      <td>0.113041</td>\n",
       "      <td>0.000000</td>\n",
       "      <td>0.755856</td>\n",
       "      <td>1.361057</td>\n",
       "      <td>0.986610</td>\n",
       "      <td>0.838085</td>\n",
       "      <td>1.133295</td>\n",
       "      <td>0.872245</td>\n",
       "      <td>0.808487</td>\n",
       "    </tr>\n",
       "  </tbody>\n",
       "</table>\n",
       "<p>5 rows × 28 columns</p>\n",
       "</div>"
      ],
      "text/plain": [
       "   lepton pT  lepton eta  lepton phi  missing energy magnitude  \\\n",
       "0   0.869293   -0.635082    0.225690                  0.327470   \n",
       "1   0.907542    0.329147    0.359412                  1.497970   \n",
       "2   0.798835    1.470639   -1.635975                  0.453773   \n",
       "3   1.344385   -0.876626    0.935913                  1.992050   \n",
       "4   1.105009    0.321356    1.522401                  0.882808   \n",
       "\n",
       "   missing energy phi  jet 1 pt  jet 1 eta  jet 1 phi  jet 1 b-tag  jet 2 pt  \\\n",
       "0           -0.689993  0.754202  -0.248573  -1.092064     0.000000  1.374992   \n",
       "1           -0.313010  1.095531  -0.557525  -1.588230     2.173076  0.812581   \n",
       "2            0.425629  1.104875   1.282322   1.381664     0.000000  0.851737   \n",
       "3            0.882454  1.786066  -1.646778  -0.942383     0.000000  2.423265   \n",
       "4           -1.205349  0.681466  -1.070464  -0.921871     0.000000  0.800872   \n",
       "\n",
       "   ...  jet 4 eta  jet 4 phi  jet 4 b-tag      m_jj     m_jjj      m_lv  \\\n",
       "0  ...  -0.010455  -0.045767     3.101961  1.353760  0.979563  0.978076   \n",
       "1  ...  -1.138930  -0.000819     0.000000  0.302220  0.833048  0.985700   \n",
       "2  ...   1.128848   0.900461     0.000000  0.909753  1.108330  0.985692   \n",
       "3  ...  -0.678379  -1.360356     0.000000  0.946652  1.028704  0.998656   \n",
       "4  ...  -0.373566   0.113041     0.000000  0.755856  1.361057  0.986610   \n",
       "\n",
       "      m_jlv      m_bb     m_wbb    m_wwbb  \n",
       "0  0.920005  0.721657  0.988751  0.876678  \n",
       "1  0.978098  0.779732  0.992356  0.798343  \n",
       "2  0.951331  0.803252  0.865924  0.780118  \n",
       "3  0.728281  0.869200  1.026736  0.957904  \n",
       "4  0.838085  1.133295  0.872245  0.808487  \n",
       "\n",
       "[5 rows x 28 columns]"
      ]
     },
     "execution_count": 11,
     "metadata": {},
     "output_type": "execute_result"
    }
   ],
   "source": [
    "data = higgs_data.iloc[:,1:]\n",
    "data.head()"
   ]
  },
  {
   "cell_type": "code",
   "execution_count": 12,
   "id": "municipal-bleeding",
   "metadata": {},
   "outputs": [
    {
     "data": {
      "text/plain": [
       "0    1.0\n",
       "1    1.0\n",
       "2    1.0\n",
       "3    0.0\n",
       "4    1.0\n",
       "Name: class_label, dtype: float64"
      ]
     },
     "execution_count": 12,
     "metadata": {},
     "output_type": "execute_result"
    }
   ],
   "source": [
    "labels = higgs_data.iloc[:,0]\n",
    "target = higgs_data.iloc[:,0]\n",
    "labels.head()"
   ]
  },
  {
   "cell_type": "code",
   "execution_count": 13,
   "id": "alternative-wyoming",
   "metadata": {},
   "outputs": [
    {
     "name": "stdout",
     "output_type": "stream",
     "text": [
      "cuML Version: 0.18.0a+63.gae7e4442a\n"
     ]
    }
   ],
   "source": [
    "import cuml; print('cuML Version:', cuml.__version__)\n",
    "from cuml.decomposition import PCA as PCA_GPU\n",
    "pca_gpu = PCA_GPU(n_components=20)"
   ]
  },
  {
   "cell_type": "code",
   "execution_count": 14,
   "id": "wanted-stage",
   "metadata": {},
   "outputs": [
    {
     "data": {
      "text/html": [
       "<div>\n",
       "<style scoped>\n",
       "    .dataframe tbody tr th:only-of-type {\n",
       "        vertical-align: middle;\n",
       "    }\n",
       "\n",
       "    .dataframe tbody tr th {\n",
       "        vertical-align: top;\n",
       "    }\n",
       "\n",
       "    .dataframe thead th {\n",
       "        text-align: right;\n",
       "    }\n",
       "</style>\n",
       "<table border=\"1\" class=\"dataframe\">\n",
       "  <thead>\n",
       "    <tr style=\"text-align: right;\">\n",
       "      <th></th>\n",
       "      <th>0</th>\n",
       "      <th>1</th>\n",
       "      <th>2</th>\n",
       "      <th>3</th>\n",
       "      <th>4</th>\n",
       "      <th>5</th>\n",
       "      <th>6</th>\n",
       "      <th>7</th>\n",
       "      <th>8</th>\n",
       "      <th>9</th>\n",
       "      <th>10</th>\n",
       "      <th>11</th>\n",
       "      <th>12</th>\n",
       "      <th>13</th>\n",
       "      <th>14</th>\n",
       "      <th>15</th>\n",
       "      <th>16</th>\n",
       "      <th>17</th>\n",
       "      <th>18</th>\n",
       "      <th>19</th>\n",
       "    </tr>\n",
       "  </thead>\n",
       "  <tbody>\n",
       "    <tr>\n",
       "      <th>0</th>\n",
       "      <td>2.375884</td>\n",
       "      <td>-1.408481</td>\n",
       "      <td>0.098758</td>\n",
       "      <td>0.853087</td>\n",
       "      <td>-0.976186</td>\n",
       "      <td>-0.781129</td>\n",
       "      <td>-1.111108</td>\n",
       "      <td>0.266909</td>\n",
       "      <td>-0.523461</td>\n",
       "      <td>-0.766004</td>\n",
       "      <td>0.157061</td>\n",
       "      <td>-0.740828</td>\n",
       "      <td>-0.476763</td>\n",
       "      <td>0.157369</td>\n",
       "      <td>-0.734317</td>\n",
       "      <td>-0.396920</td>\n",
       "      <td>0.408683</td>\n",
       "      <td>0.083966</td>\n",
       "      <td>-0.276979</td>\n",
       "      <td>0.599181</td>\n",
       "    </tr>\n",
       "    <tr>\n",
       "      <th>1</th>\n",
       "      <td>-1.001335</td>\n",
       "      <td>-1.178153</td>\n",
       "      <td>1.974633</td>\n",
       "      <td>-0.046682</td>\n",
       "      <td>-1.868243</td>\n",
       "      <td>-0.672984</td>\n",
       "      <td>0.386906</td>\n",
       "      <td>0.524796</td>\n",
       "      <td>-0.742173</td>\n",
       "      <td>0.583313</td>\n",
       "      <td>0.615752</td>\n",
       "      <td>-1.165131</td>\n",
       "      <td>-0.172281</td>\n",
       "      <td>-0.507668</td>\n",
       "      <td>-0.024181</td>\n",
       "      <td>0.219316</td>\n",
       "      <td>-0.675751</td>\n",
       "      <td>-0.425963</td>\n",
       "      <td>0.295868</td>\n",
       "      <td>0.181993</td>\n",
       "    </tr>\n",
       "    <tr>\n",
       "      <th>2</th>\n",
       "      <td>-1.461409</td>\n",
       "      <td>2.602079</td>\n",
       "      <td>-1.038770</td>\n",
       "      <td>1.502689</td>\n",
       "      <td>1.736256</td>\n",
       "      <td>-0.303969</td>\n",
       "      <td>0.478398</td>\n",
       "      <td>-1.634353</td>\n",
       "      <td>0.550997</td>\n",
       "      <td>-0.329955</td>\n",
       "      <td>0.432110</td>\n",
       "      <td>-0.821896</td>\n",
       "      <td>-0.016948</td>\n",
       "      <td>-0.016034</td>\n",
       "      <td>0.095697</td>\n",
       "      <td>-0.203596</td>\n",
       "      <td>0.251680</td>\n",
       "      <td>-0.322568</td>\n",
       "      <td>-0.425380</td>\n",
       "      <td>-0.228475</td>\n",
       "    </tr>\n",
       "    <tr>\n",
       "      <th>3</th>\n",
       "      <td>-0.651146</td>\n",
       "      <td>-2.392354</td>\n",
       "      <td>1.012297</td>\n",
       "      <td>1.719413</td>\n",
       "      <td>-1.478297</td>\n",
       "      <td>0.164986</td>\n",
       "      <td>-0.576784</td>\n",
       "      <td>1.178413</td>\n",
       "      <td>1.076074</td>\n",
       "      <td>-0.242123</td>\n",
       "      <td>-0.653211</td>\n",
       "      <td>-0.540779</td>\n",
       "      <td>0.539432</td>\n",
       "      <td>-0.273851</td>\n",
       "      <td>-0.085688</td>\n",
       "      <td>0.924065</td>\n",
       "      <td>0.007351</td>\n",
       "      <td>0.779739</td>\n",
       "      <td>0.685629</td>\n",
       "      <td>0.826067</td>\n",
       "    </tr>\n",
       "    <tr>\n",
       "      <th>4</th>\n",
       "      <td>-0.682446</td>\n",
       "      <td>-0.170064</td>\n",
       "      <td>1.103632</td>\n",
       "      <td>1.491523</td>\n",
       "      <td>-1.261936</td>\n",
       "      <td>0.001854</td>\n",
       "      <td>-0.269011</td>\n",
       "      <td>1.175451</td>\n",
       "      <td>-1.666523</td>\n",
       "      <td>0.366207</td>\n",
       "      <td>0.605369</td>\n",
       "      <td>-0.866355</td>\n",
       "      <td>1.247657</td>\n",
       "      <td>-0.312282</td>\n",
       "      <td>0.386481</td>\n",
       "      <td>-0.222548</td>\n",
       "      <td>0.066207</td>\n",
       "      <td>0.427643</td>\n",
       "      <td>0.288301</td>\n",
       "      <td>0.256019</td>\n",
       "    </tr>\n",
       "    <tr>\n",
       "      <th>...</th>\n",
       "      <td>...</td>\n",
       "      <td>...</td>\n",
       "      <td>...</td>\n",
       "      <td>...</td>\n",
       "      <td>...</td>\n",
       "      <td>...</td>\n",
       "      <td>...</td>\n",
       "      <td>...</td>\n",
       "      <td>...</td>\n",
       "      <td>...</td>\n",
       "      <td>...</td>\n",
       "      <td>...</td>\n",
       "      <td>...</td>\n",
       "      <td>...</td>\n",
       "      <td>...</td>\n",
       "      <td>...</td>\n",
       "      <td>...</td>\n",
       "      <td>...</td>\n",
       "      <td>...</td>\n",
       "      <td>...</td>\n",
       "    </tr>\n",
       "    <tr>\n",
       "      <th>10999995</th>\n",
       "      <td>2.562432</td>\n",
       "      <td>0.868106</td>\n",
       "      <td>-0.251749</td>\n",
       "      <td>0.108469</td>\n",
       "      <td>1.364589</td>\n",
       "      <td>0.334103</td>\n",
       "      <td>-0.363881</td>\n",
       "      <td>-0.787789</td>\n",
       "      <td>-0.809327</td>\n",
       "      <td>0.615558</td>\n",
       "      <td>-0.453591</td>\n",
       "      <td>-0.282200</td>\n",
       "      <td>1.312357</td>\n",
       "      <td>-0.740266</td>\n",
       "      <td>0.656024</td>\n",
       "      <td>1.190156</td>\n",
       "      <td>0.360621</td>\n",
       "      <td>0.625020</td>\n",
       "      <td>0.565713</td>\n",
       "      <td>0.893670</td>\n",
       "    </tr>\n",
       "    <tr>\n",
       "      <th>10999996</th>\n",
       "      <td>2.276295</td>\n",
       "      <td>-0.467913</td>\n",
       "      <td>0.594401</td>\n",
       "      <td>-1.499716</td>\n",
       "      <td>-1.445256</td>\n",
       "      <td>0.960391</td>\n",
       "      <td>-0.492754</td>\n",
       "      <td>-0.475153</td>\n",
       "      <td>-1.300916</td>\n",
       "      <td>0.122579</td>\n",
       "      <td>0.017658</td>\n",
       "      <td>0.975410</td>\n",
       "      <td>-0.412373</td>\n",
       "      <td>0.705700</td>\n",
       "      <td>-0.543985</td>\n",
       "      <td>0.171095</td>\n",
       "      <td>-0.141495</td>\n",
       "      <td>-0.275691</td>\n",
       "      <td>-0.408760</td>\n",
       "      <td>-0.106550</td>\n",
       "    </tr>\n",
       "    <tr>\n",
       "      <th>10999997</th>\n",
       "      <td>-1.112840</td>\n",
       "      <td>2.082014</td>\n",
       "      <td>2.034615</td>\n",
       "      <td>0.002175</td>\n",
       "      <td>-0.221594</td>\n",
       "      <td>2.136755</td>\n",
       "      <td>0.584095</td>\n",
       "      <td>-0.827952</td>\n",
       "      <td>-1.319732</td>\n",
       "      <td>-0.633988</td>\n",
       "      <td>-0.035822</td>\n",
       "      <td>0.705074</td>\n",
       "      <td>0.955659</td>\n",
       "      <td>-0.309919</td>\n",
       "      <td>1.083825</td>\n",
       "      <td>0.468176</td>\n",
       "      <td>0.137237</td>\n",
       "      <td>-0.690645</td>\n",
       "      <td>-0.585344</td>\n",
       "      <td>0.451820</td>\n",
       "    </tr>\n",
       "    <tr>\n",
       "      <th>10999998</th>\n",
       "      <td>-0.583522</td>\n",
       "      <td>0.095687</td>\n",
       "      <td>1.021601</td>\n",
       "      <td>1.523090</td>\n",
       "      <td>1.622603</td>\n",
       "      <td>-1.387965</td>\n",
       "      <td>-0.460949</td>\n",
       "      <td>0.696527</td>\n",
       "      <td>0.913435</td>\n",
       "      <td>-1.306583</td>\n",
       "      <td>0.682800</td>\n",
       "      <td>0.020560</td>\n",
       "      <td>1.267296</td>\n",
       "      <td>-0.618569</td>\n",
       "      <td>-0.577231</td>\n",
       "      <td>0.214857</td>\n",
       "      <td>-0.603409</td>\n",
       "      <td>0.829080</td>\n",
       "      <td>0.882767</td>\n",
       "      <td>-0.140435</td>\n",
       "    </tr>\n",
       "    <tr>\n",
       "      <th>10999999</th>\n",
       "      <td>-0.920517</td>\n",
       "      <td>-2.256559</td>\n",
       "      <td>1.896001</td>\n",
       "      <td>-0.063102</td>\n",
       "      <td>-1.366885</td>\n",
       "      <td>-0.914458</td>\n",
       "      <td>0.549653</td>\n",
       "      <td>1.186499</td>\n",
       "      <td>-0.839479</td>\n",
       "      <td>0.590041</td>\n",
       "      <td>1.177050</td>\n",
       "      <td>-1.123924</td>\n",
       "      <td>-1.056055</td>\n",
       "      <td>-0.180629</td>\n",
       "      <td>-0.183344</td>\n",
       "      <td>-0.551148</td>\n",
       "      <td>-0.646944</td>\n",
       "      <td>-0.101135</td>\n",
       "      <td>-0.386642</td>\n",
       "      <td>-0.199530</td>\n",
       "    </tr>\n",
       "  </tbody>\n",
       "</table>\n",
       "<p>11000000 rows × 20 columns</p>\n",
       "</div>"
      ],
      "text/plain": [
       "                0         1         2         3         4         5   \\\n",
       "0         2.375884 -1.408481  0.098758  0.853087 -0.976186 -0.781129   \n",
       "1        -1.001335 -1.178153  1.974633 -0.046682 -1.868243 -0.672984   \n",
       "2        -1.461409  2.602079 -1.038770  1.502689  1.736256 -0.303969   \n",
       "3        -0.651146 -2.392354  1.012297  1.719413 -1.478297  0.164986   \n",
       "4        -0.682446 -0.170064  1.103632  1.491523 -1.261936  0.001854   \n",
       "...            ...       ...       ...       ...       ...       ...   \n",
       "10999995  2.562432  0.868106 -0.251749  0.108469  1.364589  0.334103   \n",
       "10999996  2.276295 -0.467913  0.594401 -1.499716 -1.445256  0.960391   \n",
       "10999997 -1.112840  2.082014  2.034615  0.002175 -0.221594  2.136755   \n",
       "10999998 -0.583522  0.095687  1.021601  1.523090  1.622603 -1.387965   \n",
       "10999999 -0.920517 -2.256559  1.896001 -0.063102 -1.366885 -0.914458   \n",
       "\n",
       "                6         7         8         9         10        11  \\\n",
       "0        -1.111108  0.266909 -0.523461 -0.766004  0.157061 -0.740828   \n",
       "1         0.386906  0.524796 -0.742173  0.583313  0.615752 -1.165131   \n",
       "2         0.478398 -1.634353  0.550997 -0.329955  0.432110 -0.821896   \n",
       "3        -0.576784  1.178413  1.076074 -0.242123 -0.653211 -0.540779   \n",
       "4        -0.269011  1.175451 -1.666523  0.366207  0.605369 -0.866355   \n",
       "...            ...       ...       ...       ...       ...       ...   \n",
       "10999995 -0.363881 -0.787789 -0.809327  0.615558 -0.453591 -0.282200   \n",
       "10999996 -0.492754 -0.475153 -1.300916  0.122579  0.017658  0.975410   \n",
       "10999997  0.584095 -0.827952 -1.319732 -0.633988 -0.035822  0.705074   \n",
       "10999998 -0.460949  0.696527  0.913435 -1.306583  0.682800  0.020560   \n",
       "10999999  0.549653  1.186499 -0.839479  0.590041  1.177050 -1.123924   \n",
       "\n",
       "                12        13        14        15        16        17  \\\n",
       "0        -0.476763  0.157369 -0.734317 -0.396920  0.408683  0.083966   \n",
       "1        -0.172281 -0.507668 -0.024181  0.219316 -0.675751 -0.425963   \n",
       "2        -0.016948 -0.016034  0.095697 -0.203596  0.251680 -0.322568   \n",
       "3         0.539432 -0.273851 -0.085688  0.924065  0.007351  0.779739   \n",
       "4         1.247657 -0.312282  0.386481 -0.222548  0.066207  0.427643   \n",
       "...            ...       ...       ...       ...       ...       ...   \n",
       "10999995  1.312357 -0.740266  0.656024  1.190156  0.360621  0.625020   \n",
       "10999996 -0.412373  0.705700 -0.543985  0.171095 -0.141495 -0.275691   \n",
       "10999997  0.955659 -0.309919  1.083825  0.468176  0.137237 -0.690645   \n",
       "10999998  1.267296 -0.618569 -0.577231  0.214857 -0.603409  0.829080   \n",
       "10999999 -1.056055 -0.180629 -0.183344 -0.551148 -0.646944 -0.101135   \n",
       "\n",
       "                18        19  \n",
       "0        -0.276979  0.599181  \n",
       "1         0.295868  0.181993  \n",
       "2        -0.425380 -0.228475  \n",
       "3         0.685629  0.826067  \n",
       "4         0.288301  0.256019  \n",
       "...            ...       ...  \n",
       "10999995  0.565713  0.893670  \n",
       "10999996 -0.408760 -0.106550  \n",
       "10999997 -0.585344  0.451820  \n",
       "10999998  0.882767 -0.140435  \n",
       "10999999 -0.386642 -0.199530  \n",
       "\n",
       "[11000000 rows x 20 columns]"
      ]
     },
     "execution_count": 14,
     "metadata": {},
     "output_type": "execute_result"
    }
   ],
   "source": [
    "pca_gpu.fit(data)\n",
    "x_pca = pca_gpu.transform(data)\n",
    "x_pca"
   ]
  },
  {
   "cell_type": "markdown",
   "id": "crude-sigma",
   "metadata": {},
   "source": [
    "### Setting independent variable"
   ]
  },
  {
   "cell_type": "code",
   "execution_count": 15,
   "id": "further-allowance",
   "metadata": {},
   "outputs": [
    {
     "name": "stdout",
     "output_type": "stream",
     "text": [
      "X:  (11000000, 20) <bound method DataFrame.info of                 0         1         2         3         4         5   \\\n",
      "0         2.375884 -1.408481  0.098758  0.853087 -0.976186 -0.781129   \n",
      "1        -1.001335 -1.178153  1.974633 -0.046682 -1.868243 -0.672984   \n",
      "2        -1.461409  2.602079 -1.038770  1.502689  1.736256 -0.303969   \n",
      "3        -0.651146 -2.392354  1.012297  1.719413 -1.478297  0.164986   \n",
      "4        -0.682446 -0.170064  1.103631  1.491523 -1.261936  0.001854   \n",
      "...            ...       ...       ...       ...       ...       ...   \n",
      "10999995  2.562432  0.868106 -0.251749  0.108469  1.364589  0.334103   \n",
      "10999996  2.276294 -0.467913  0.594401 -1.499717 -1.445256  0.960391   \n",
      "10999997 -1.112840  2.082014  2.034615  0.002175 -0.221594  2.136755   \n",
      "10999998 -0.583522  0.095687  1.021601  1.523090  1.622603 -1.387965   \n",
      "10999999 -0.920517 -2.256559  1.896001 -0.063102 -1.366885 -0.914458   \n",
      "\n",
      "                6         7         8         9         10        11  \\\n",
      "0        -1.111108  0.266909 -0.523461 -0.766004  0.157061 -0.740828   \n",
      "1         0.386906  0.524796 -0.742173  0.583313  0.615752 -1.165131   \n",
      "2         0.478398 -1.634353  0.550997 -0.329955  0.432110 -0.821896   \n",
      "3        -0.576784  1.178413  1.076074 -0.242123 -0.653211 -0.540779   \n",
      "4        -0.269011  1.175451 -1.666523  0.366207  0.605369 -0.866355   \n",
      "...            ...       ...       ...       ...       ...       ...   \n",
      "10999995 -0.363881 -0.787789 -0.809327  0.615558 -0.453591 -0.282200   \n",
      "10999996 -0.492754 -0.475153 -1.300916  0.122579  0.017658  0.975410   \n",
      "10999997  0.584095 -0.827952 -1.319732 -0.633988 -0.035822  0.705074   \n",
      "10999998 -0.460948  0.696527  0.913435 -1.306583  0.682800  0.020560   \n",
      "10999999  0.549653  1.186499 -0.839479  0.590041  1.177050 -1.123924   \n",
      "\n",
      "                12        13        14        15        16        17  \\\n",
      "0        -0.476763  0.157369 -0.734317 -0.396920  0.408683  0.083966   \n",
      "1        -0.172281 -0.507668 -0.024181  0.219316 -0.675751 -0.425963   \n",
      "2        -0.016948 -0.016034  0.095697 -0.203596  0.251680 -0.322568   \n",
      "3         0.539432 -0.273851 -0.085688  0.924065  0.007351  0.779739   \n",
      "4         1.247657 -0.312282  0.386481 -0.222548  0.066207  0.427643   \n",
      "...            ...       ...       ...       ...       ...       ...   \n",
      "10999995  1.312357 -0.740266  0.656024  1.190156  0.360621  0.625019   \n",
      "10999996 -0.412373  0.705700 -0.543985  0.171095 -0.141495 -0.275691   \n",
      "10999997  0.955659 -0.309919  1.083825  0.468176  0.137237 -0.690645   \n",
      "10999998  1.267296 -0.618569 -0.577231  0.214857 -0.603409  0.829080   \n",
      "10999999 -1.056055 -0.180629 -0.183344 -0.551148 -0.646944 -0.101135   \n",
      "\n",
      "                18        19  \n",
      "0        -0.276979  0.599181  \n",
      "1         0.295868  0.181993  \n",
      "2        -0.425380 -0.228475  \n",
      "3         0.685629  0.826067  \n",
      "4         0.288301  0.256019  \n",
      "...            ...       ...  \n",
      "10999995  0.565713  0.893670  \n",
      "10999996 -0.408760 -0.106550  \n",
      "10999997 -0.585344  0.451820  \n",
      "10999998  0.882767 -0.140435  \n",
      "10999999 -0.386642 -0.199530  \n",
      "\n",
      "[11000000 rows x 20 columns]> y:  (11000000,) float32\n"
     ]
    }
   ],
   "source": [
    "import cupy\n",
    "X, y = x_pca, target\n",
    "X, y = X.astype(cupy.float32), y.astype(cupy.float32)\n",
    "print('X: ', X.shape, X.info, 'y: ', y.shape, y.dtype)"
   ]
  },
  {
   "cell_type": "code",
   "execution_count": 16,
   "id": "rural-sharing",
   "metadata": {},
   "outputs": [
    {
     "data": {
      "text/plain": [
       "0     0.115813\n",
       "1     0.096593\n",
       "2     0.084512\n",
       "3     0.070010\n",
       "4     0.064150\n",
       "5     0.056518\n",
       "6     0.055588\n",
       "7     0.054467\n",
       "8     0.052920\n",
       "9     0.044681\n",
       "10    0.042485\n",
       "11    0.041082\n",
       "12    0.038857\n",
       "13    0.037754\n",
       "14    0.025550\n",
       "15    0.021813\n",
       "16    0.019798\n",
       "17    0.018532\n",
       "18    0.016483\n",
       "19    0.010474\n",
       "dtype: float64"
      ]
     },
     "execution_count": 16,
     "metadata": {},
     "output_type": "execute_result"
    }
   ],
   "source": [
    "pca_gpu.explained_variance_ratio_"
   ]
  },
  {
   "cell_type": "markdown",
   "id": "organizational-least",
   "metadata": {},
   "source": [
    "### Generating train and test split:"
   ]
  },
  {
   "cell_type": "code",
   "execution_count": 17,
   "id": "personalized-priest",
   "metadata": {},
   "outputs": [],
   "source": [
    "import pickle\n",
    "from cuml.ensemble import RandomForestClassifier as curfc\n",
    "from cuml.metrics import accuracy_score\n",
    "from sklearn.model_selection import train_test_split"
   ]
  },
  {
   "cell_type": "code",
   "execution_count": 18,
   "id": "incredible-sperm",
   "metadata": {},
   "outputs": [],
   "source": [
    "X_train, X_test, y_train, y_test = train_test_split(X, y,\n",
    "                                                    test_size = 0.2,\n",
    "                                                    random_state=0)"
   ]
  },
  {
   "cell_type": "markdown",
   "id": "temporal-julian",
   "metadata": {},
   "source": [
    "# 2) Training of accelerated ML models using RAPIDS\n",
    "### cuml-RandomForestClassifier Model:"
   ]
  },
  {
   "cell_type": "code",
   "execution_count": 19,
   "id": "directed-deposit",
   "metadata": {},
   "outputs": [
    {
     "name": "stdout",
     "output_type": "stream",
     "text": [
      "CPU times: user 4.27 ms, sys: 56 µs, total: 4.33 ms\n",
      "Wall time: 3.52 ms\n"
     ]
    }
   ],
   "source": [
    "%%time\n",
    "# making data ready for fit ino the RFC model\n",
    "X_cudf_train =(X_train)\n",
    "X_cudf_test = (X_test)\n",
    "\n",
    "y_cudf_train = cudf.Series(y_train.values)"
   ]
  },
  {
   "cell_type": "code",
   "execution_count": 21,
   "id": "amino-dress",
   "metadata": {},
   "outputs": [
    {
     "name": "stdout",
     "output_type": "stream",
     "text": [
      "CPU times: user 1min 29s, sys: 201 ms, total: 1min 29s\n",
      "Wall time: 11.7 s\n"
     ]
    },
    {
     "data": {
      "text/plain": [
       "RandomForestClassifier(split_criterion=0, handle=<cuml.raft.common.handle.Handle object at 0x7f3950059370>, verbose=4, output_type='input')"
      ]
     },
     "execution_count": 21,
     "metadata": {},
     "output_type": "execute_result"
    }
   ],
   "source": [
    "%%time\n",
    "#Fitting the moel in RPC model\n",
    "cuml_model = curfc(n_estimators=40,\n",
    "                   max_depth=16,\n",
    "                   max_features=1.0,\n",
    "                   random_state=10)\n",
    "\n",
    "cuml_model.fit(X_cudf_train, y_cudf_train)"
   ]
  },
  {
   "cell_type": "code",
   "execution_count": 22,
   "id": "connected-donor",
   "metadata": {},
   "outputs": [
    {
     "name": "stdout",
     "output_type": "stream",
     "text": [
      "CPU times: user 1.09 s, sys: 112 ms, total: 1.2 s\n",
      "Wall time: 1.2 s\n"
     ]
    }
   ],
   "source": [
    "%%time\n",
    "#finding the accuracy score#\n",
    "fil_preds_orig = cuml_model.predict(X_cudf_test)\n",
    "fil_acc_orig = accuracy_score(y_test, fil_preds_orig)"
   ]
  },
  {
   "cell_type": "code",
   "execution_count": 23,
   "id": "alert-elite",
   "metadata": {},
   "outputs": [
    {
     "name": "stdout",
     "output_type": "stream",
     "text": [
      "RFC_model_accuracy is: 0.6523095369338989\n"
     ]
    }
   ],
   "source": [
    "print(\"RFC_model_accuracy is:\",fil_acc_orig)"
   ]
  },
  {
   "cell_type": "markdown",
   "id": "standard-minute",
   "metadata": {},
   "source": [
    "### LogisticRegression Model:"
   ]
  },
  {
   "cell_type": "code",
   "execution_count": 24,
   "id": "advisory-lightning",
   "metadata": {},
   "outputs": [],
   "source": [
    "from cuml.linear_model import LogisticRegression"
   ]
  },
  {
   "cell_type": "code",
   "execution_count": 25,
   "id": "handled-sword",
   "metadata": {},
   "outputs": [
    {
     "name": "stdout",
     "output_type": "stream",
     "text": [
      "CPU times: user 1.81 s, sys: 48.1 ms, total: 1.86 s\n",
      "Wall time: 1.86 s\n"
     ]
    },
    {
     "data": {
      "text/plain": [
       "LogisticRegression(penalty='l2', tol=0.0001, C=1.0, fit_intercept=True, max_iter=1000, linesearch_max_iter=50, verbose=4, l1_ratio=None, solver='qn', handle=<cuml.raft.common.handle.Handle object at 0x7f3950070c10>, output_type='input')"
      ]
     },
     "execution_count": 25,
     "metadata": {},
     "output_type": "execute_result"
    }
   ],
   "source": [
    "%%time\n",
    "#Fit the data  into the LRM\n",
    "reg = LogisticRegression()\n",
    "reg.fit(X,y)"
   ]
  },
  {
   "cell_type": "code",
   "execution_count": 26,
   "id": "electrical-comedy",
   "metadata": {},
   "outputs": [
    {
     "name": "stdout",
     "output_type": "stream",
     "text": [
      "CPU times: user 30 ms, sys: 11.9 ms, total: 42 ms\n",
      "Wall time: 39.2 ms\n"
     ]
    },
    {
     "data": {
      "text/plain": [
       "0          1.0\n",
       "1          1.0\n",
       "2          0.0\n",
       "3          1.0\n",
       "4          1.0\n",
       "          ... \n",
       "2199995    0.0\n",
       "2199996    1.0\n",
       "2199997    1.0\n",
       "2199998    1.0\n",
       "2199999    1.0\n",
       "Length: 2200000, dtype: float32"
      ]
     },
     "execution_count": 26,
     "metadata": {},
     "output_type": "execute_result"
    }
   ],
   "source": [
    "%%time\n",
    "#model predictions\n",
    "preds = reg.predict(X_test)\n",
    "preds"
   ]
  },
  {
   "cell_type": "code",
   "execution_count": 27,
   "id": "corresponding-hierarchy",
   "metadata": {},
   "outputs": [
    {
     "name": "stdout",
     "output_type": "stream",
     "text": [
      "LRM_prediction_accuracy_is: 0.5672668218612671\n",
      "CPU times: user 13.5 ms, sys: 4.05 ms, total: 17.6 ms\n",
      "Wall time: 15.5 ms\n"
     ]
    }
   ],
   "source": [
    "%%time\n",
    "#LRM prediction accuracy\n",
    "preds_accuracy = accuracy_score(y_test, preds)\n",
    "print(\"LRM_prediction_accuracy_is:\",preds_accuracy)"
   ]
  },
  {
   "cell_type": "markdown",
   "id": "controversial-insight",
   "metadata": {},
   "source": [
    "## benchmark between CPU and GPU:\n",
    "### For CPU loding data into a dask data frame"
   ]
  },
  {
   "cell_type": "code",
   "execution_count": 28,
   "id": "smart-digit",
   "metadata": {},
   "outputs": [],
   "source": [
    "import dask\n",
    "import xgboost\n",
    "import dask_xgboost\n",
    "import dask_ml\n",
    "from dask_ml.model_selection import train_test_split\n",
    "import pandas as pd\n",
    "import dask.dataframe as dd\n",
    "import numpy as np"
   ]
  },
  {
   "cell_type": "code",
   "execution_count": 29,
   "id": "approximate-satisfaction",
   "metadata": {},
   "outputs": [],
   "source": [
    "df_cpu = dd.read_csv(\"./Partical.csv\", header=None, names=[str(x) for x in range(29)])"
   ]
  },
  {
   "cell_type": "code",
   "execution_count": 30,
   "id": "respiratory-vintage",
   "metadata": {},
   "outputs": [
    {
     "data": {
      "text/html": [
       "<div>\n",
       "<style scoped>\n",
       "    .dataframe tbody tr th:only-of-type {\n",
       "        vertical-align: middle;\n",
       "    }\n",
       "\n",
       "    .dataframe tbody tr th {\n",
       "        vertical-align: top;\n",
       "    }\n",
       "\n",
       "    .dataframe thead th {\n",
       "        text-align: right;\n",
       "    }\n",
       "</style>\n",
       "<table border=\"1\" class=\"dataframe\">\n",
       "  <thead>\n",
       "    <tr style=\"text-align: right;\">\n",
       "      <th></th>\n",
       "      <th>0</th>\n",
       "      <th>1</th>\n",
       "      <th>2</th>\n",
       "      <th>3</th>\n",
       "      <th>4</th>\n",
       "      <th>5</th>\n",
       "      <th>6</th>\n",
       "      <th>7</th>\n",
       "      <th>8</th>\n",
       "      <th>9</th>\n",
       "      <th>...</th>\n",
       "      <th>19</th>\n",
       "      <th>20</th>\n",
       "      <th>21</th>\n",
       "      <th>22</th>\n",
       "      <th>23</th>\n",
       "      <th>24</th>\n",
       "      <th>25</th>\n",
       "      <th>26</th>\n",
       "      <th>27</th>\n",
       "      <th>28</th>\n",
       "    </tr>\n",
       "  </thead>\n",
       "  <tbody>\n",
       "    <tr>\n",
       "      <th>0</th>\n",
       "      <td>1.0</td>\n",
       "      <td>0.869293</td>\n",
       "      <td>-0.635082</td>\n",
       "      <td>0.225690</td>\n",
       "      <td>0.327470</td>\n",
       "      <td>-0.689993</td>\n",
       "      <td>0.754202</td>\n",
       "      <td>-0.248573</td>\n",
       "      <td>-1.092064</td>\n",
       "      <td>0.000000</td>\n",
       "      <td>...</td>\n",
       "      <td>-0.010455</td>\n",
       "      <td>-0.045767</td>\n",
       "      <td>3.101961</td>\n",
       "      <td>1.353760</td>\n",
       "      <td>0.979563</td>\n",
       "      <td>0.978076</td>\n",
       "      <td>0.920005</td>\n",
       "      <td>0.721657</td>\n",
       "      <td>0.988751</td>\n",
       "      <td>0.876678</td>\n",
       "    </tr>\n",
       "    <tr>\n",
       "      <th>1</th>\n",
       "      <td>1.0</td>\n",
       "      <td>0.907542</td>\n",
       "      <td>0.329147</td>\n",
       "      <td>0.359412</td>\n",
       "      <td>1.497970</td>\n",
       "      <td>-0.313010</td>\n",
       "      <td>1.095531</td>\n",
       "      <td>-0.557525</td>\n",
       "      <td>-1.588230</td>\n",
       "      <td>2.173076</td>\n",
       "      <td>...</td>\n",
       "      <td>-1.138930</td>\n",
       "      <td>-0.000819</td>\n",
       "      <td>0.000000</td>\n",
       "      <td>0.302220</td>\n",
       "      <td>0.833048</td>\n",
       "      <td>0.985700</td>\n",
       "      <td>0.978098</td>\n",
       "      <td>0.779732</td>\n",
       "      <td>0.992356</td>\n",
       "      <td>0.798343</td>\n",
       "    </tr>\n",
       "    <tr>\n",
       "      <th>2</th>\n",
       "      <td>1.0</td>\n",
       "      <td>0.798835</td>\n",
       "      <td>1.470639</td>\n",
       "      <td>-1.635975</td>\n",
       "      <td>0.453773</td>\n",
       "      <td>0.425629</td>\n",
       "      <td>1.104875</td>\n",
       "      <td>1.282322</td>\n",
       "      <td>1.381664</td>\n",
       "      <td>0.000000</td>\n",
       "      <td>...</td>\n",
       "      <td>1.128848</td>\n",
       "      <td>0.900461</td>\n",
       "      <td>0.000000</td>\n",
       "      <td>0.909753</td>\n",
       "      <td>1.108330</td>\n",
       "      <td>0.985692</td>\n",
       "      <td>0.951331</td>\n",
       "      <td>0.803252</td>\n",
       "      <td>0.865924</td>\n",
       "      <td>0.780118</td>\n",
       "    </tr>\n",
       "    <tr>\n",
       "      <th>3</th>\n",
       "      <td>0.0</td>\n",
       "      <td>1.344385</td>\n",
       "      <td>-0.876626</td>\n",
       "      <td>0.935913</td>\n",
       "      <td>1.992050</td>\n",
       "      <td>0.882454</td>\n",
       "      <td>1.786066</td>\n",
       "      <td>-1.646778</td>\n",
       "      <td>-0.942383</td>\n",
       "      <td>0.000000</td>\n",
       "      <td>...</td>\n",
       "      <td>-0.678379</td>\n",
       "      <td>-1.360356</td>\n",
       "      <td>0.000000</td>\n",
       "      <td>0.946652</td>\n",
       "      <td>1.028704</td>\n",
       "      <td>0.998656</td>\n",
       "      <td>0.728281</td>\n",
       "      <td>0.869200</td>\n",
       "      <td>1.026736</td>\n",
       "      <td>0.957904</td>\n",
       "    </tr>\n",
       "    <tr>\n",
       "      <th>4</th>\n",
       "      <td>1.0</td>\n",
       "      <td>1.105009</td>\n",
       "      <td>0.321356</td>\n",
       "      <td>1.522401</td>\n",
       "      <td>0.882808</td>\n",
       "      <td>-1.205349</td>\n",
       "      <td>0.681466</td>\n",
       "      <td>-1.070464</td>\n",
       "      <td>-0.921871</td>\n",
       "      <td>0.000000</td>\n",
       "      <td>...</td>\n",
       "      <td>-0.373566</td>\n",
       "      <td>0.113041</td>\n",
       "      <td>0.000000</td>\n",
       "      <td>0.755856</td>\n",
       "      <td>1.361057</td>\n",
       "      <td>0.986610</td>\n",
       "      <td>0.838085</td>\n",
       "      <td>1.133295</td>\n",
       "      <td>0.872245</td>\n",
       "      <td>0.808487</td>\n",
       "    </tr>\n",
       "  </tbody>\n",
       "</table>\n",
       "<p>5 rows × 29 columns</p>\n",
       "</div>"
      ],
      "text/plain": [
       "     0         1         2         3         4         5         6         7  \\\n",
       "0  1.0  0.869293 -0.635082  0.225690  0.327470 -0.689993  0.754202 -0.248573   \n",
       "1  1.0  0.907542  0.329147  0.359412  1.497970 -0.313010  1.095531 -0.557525   \n",
       "2  1.0  0.798835  1.470639 -1.635975  0.453773  0.425629  1.104875  1.282322   \n",
       "3  0.0  1.344385 -0.876626  0.935913  1.992050  0.882454  1.786066 -1.646778   \n",
       "4  1.0  1.105009  0.321356  1.522401  0.882808 -1.205349  0.681466 -1.070464   \n",
       "\n",
       "          8         9  ...        19        20        21        22        23  \\\n",
       "0 -1.092064  0.000000  ... -0.010455 -0.045767  3.101961  1.353760  0.979563   \n",
       "1 -1.588230  2.173076  ... -1.138930 -0.000819  0.000000  0.302220  0.833048   \n",
       "2  1.381664  0.000000  ...  1.128848  0.900461  0.000000  0.909753  1.108330   \n",
       "3 -0.942383  0.000000  ... -0.678379 -1.360356  0.000000  0.946652  1.028704   \n",
       "4 -0.921871  0.000000  ... -0.373566  0.113041  0.000000  0.755856  1.361057   \n",
       "\n",
       "         24        25        26        27        28  \n",
       "0  0.978076  0.920005  0.721657  0.988751  0.876678  \n",
       "1  0.985700  0.978098  0.779732  0.992356  0.798343  \n",
       "2  0.985692  0.951331  0.803252  0.865924  0.780118  \n",
       "3  0.998656  0.728281  0.869200  1.026736  0.957904  \n",
       "4  0.986610  0.838085  1.133295  0.872245  0.808487  \n",
       "\n",
       "[5 rows x 29 columns]"
      ]
     },
     "execution_count": 30,
     "metadata": {},
     "output_type": "execute_result"
    }
   ],
   "source": [
    "df_cpu.head()"
   ]
  },
  {
   "cell_type": "code",
   "execution_count": 31,
   "id": "opened-webmaster",
   "metadata": {},
   "outputs": [
    {
     "data": {
      "text/html": [
       "<div>\n",
       "<style scoped>\n",
       "    .dataframe tbody tr th:only-of-type {\n",
       "        vertical-align: middle;\n",
       "    }\n",
       "\n",
       "    .dataframe tbody tr th {\n",
       "        vertical-align: top;\n",
       "    }\n",
       "\n",
       "    .dataframe thead th {\n",
       "        text-align: right;\n",
       "    }\n",
       "</style>\n",
       "<table border=\"1\" class=\"dataframe\">\n",
       "  <thead>\n",
       "    <tr style=\"text-align: right;\">\n",
       "      <th></th>\n",
       "      <th>1</th>\n",
       "      <th>2</th>\n",
       "      <th>3</th>\n",
       "      <th>4</th>\n",
       "      <th>5</th>\n",
       "      <th>6</th>\n",
       "      <th>7</th>\n",
       "      <th>8</th>\n",
       "      <th>9</th>\n",
       "      <th>10</th>\n",
       "      <th>...</th>\n",
       "      <th>19</th>\n",
       "      <th>20</th>\n",
       "      <th>21</th>\n",
       "      <th>22</th>\n",
       "      <th>23</th>\n",
       "      <th>24</th>\n",
       "      <th>25</th>\n",
       "      <th>26</th>\n",
       "      <th>27</th>\n",
       "      <th>28</th>\n",
       "    </tr>\n",
       "  </thead>\n",
       "  <tbody>\n",
       "    <tr>\n",
       "      <th>0</th>\n",
       "      <td>0.869293</td>\n",
       "      <td>-0.635082</td>\n",
       "      <td>0.225690</td>\n",
       "      <td>0.327470</td>\n",
       "      <td>-0.689993</td>\n",
       "      <td>0.754202</td>\n",
       "      <td>-0.248573</td>\n",
       "      <td>-1.092064</td>\n",
       "      <td>0.000000</td>\n",
       "      <td>1.374992</td>\n",
       "      <td>...</td>\n",
       "      <td>-0.010455</td>\n",
       "      <td>-0.045767</td>\n",
       "      <td>3.101961</td>\n",
       "      <td>1.353760</td>\n",
       "      <td>0.979563</td>\n",
       "      <td>0.978076</td>\n",
       "      <td>0.920005</td>\n",
       "      <td>0.721657</td>\n",
       "      <td>0.988751</td>\n",
       "      <td>0.876678</td>\n",
       "    </tr>\n",
       "    <tr>\n",
       "      <th>1</th>\n",
       "      <td>0.907542</td>\n",
       "      <td>0.329147</td>\n",
       "      <td>0.359412</td>\n",
       "      <td>1.497970</td>\n",
       "      <td>-0.313010</td>\n",
       "      <td>1.095531</td>\n",
       "      <td>-0.557525</td>\n",
       "      <td>-1.588230</td>\n",
       "      <td>2.173076</td>\n",
       "      <td>0.812581</td>\n",
       "      <td>...</td>\n",
       "      <td>-1.138930</td>\n",
       "      <td>-0.000819</td>\n",
       "      <td>0.000000</td>\n",
       "      <td>0.302220</td>\n",
       "      <td>0.833048</td>\n",
       "      <td>0.985700</td>\n",
       "      <td>0.978098</td>\n",
       "      <td>0.779732</td>\n",
       "      <td>0.992356</td>\n",
       "      <td>0.798343</td>\n",
       "    </tr>\n",
       "    <tr>\n",
       "      <th>2</th>\n",
       "      <td>0.798835</td>\n",
       "      <td>1.470639</td>\n",
       "      <td>-1.635975</td>\n",
       "      <td>0.453773</td>\n",
       "      <td>0.425629</td>\n",
       "      <td>1.104875</td>\n",
       "      <td>1.282322</td>\n",
       "      <td>1.381664</td>\n",
       "      <td>0.000000</td>\n",
       "      <td>0.851737</td>\n",
       "      <td>...</td>\n",
       "      <td>1.128848</td>\n",
       "      <td>0.900461</td>\n",
       "      <td>0.000000</td>\n",
       "      <td>0.909753</td>\n",
       "      <td>1.108330</td>\n",
       "      <td>0.985692</td>\n",
       "      <td>0.951331</td>\n",
       "      <td>0.803252</td>\n",
       "      <td>0.865924</td>\n",
       "      <td>0.780118</td>\n",
       "    </tr>\n",
       "    <tr>\n",
       "      <th>3</th>\n",
       "      <td>1.344385</td>\n",
       "      <td>-0.876626</td>\n",
       "      <td>0.935913</td>\n",
       "      <td>1.992050</td>\n",
       "      <td>0.882454</td>\n",
       "      <td>1.786066</td>\n",
       "      <td>-1.646778</td>\n",
       "      <td>-0.942383</td>\n",
       "      <td>0.000000</td>\n",
       "      <td>2.423265</td>\n",
       "      <td>...</td>\n",
       "      <td>-0.678379</td>\n",
       "      <td>-1.360356</td>\n",
       "      <td>0.000000</td>\n",
       "      <td>0.946652</td>\n",
       "      <td>1.028704</td>\n",
       "      <td>0.998656</td>\n",
       "      <td>0.728281</td>\n",
       "      <td>0.869200</td>\n",
       "      <td>1.026736</td>\n",
       "      <td>0.957904</td>\n",
       "    </tr>\n",
       "    <tr>\n",
       "      <th>4</th>\n",
       "      <td>1.105009</td>\n",
       "      <td>0.321356</td>\n",
       "      <td>1.522401</td>\n",
       "      <td>0.882808</td>\n",
       "      <td>-1.205349</td>\n",
       "      <td>0.681466</td>\n",
       "      <td>-1.070464</td>\n",
       "      <td>-0.921871</td>\n",
       "      <td>0.000000</td>\n",
       "      <td>0.800872</td>\n",
       "      <td>...</td>\n",
       "      <td>-0.373566</td>\n",
       "      <td>0.113041</td>\n",
       "      <td>0.000000</td>\n",
       "      <td>0.755856</td>\n",
       "      <td>1.361057</td>\n",
       "      <td>0.986610</td>\n",
       "      <td>0.838085</td>\n",
       "      <td>1.133295</td>\n",
       "      <td>0.872245</td>\n",
       "      <td>0.808487</td>\n",
       "    </tr>\n",
       "  </tbody>\n",
       "</table>\n",
       "<p>5 rows × 28 columns</p>\n",
       "</div>"
      ],
      "text/plain": [
       "          1         2         3         4         5         6         7  \\\n",
       "0  0.869293 -0.635082  0.225690  0.327470 -0.689993  0.754202 -0.248573   \n",
       "1  0.907542  0.329147  0.359412  1.497970 -0.313010  1.095531 -0.557525   \n",
       "2  0.798835  1.470639 -1.635975  0.453773  0.425629  1.104875  1.282322   \n",
       "3  1.344385 -0.876626  0.935913  1.992050  0.882454  1.786066 -1.646778   \n",
       "4  1.105009  0.321356  1.522401  0.882808 -1.205349  0.681466 -1.070464   \n",
       "\n",
       "          8         9        10  ...        19        20        21        22  \\\n",
       "0 -1.092064  0.000000  1.374992  ... -0.010455 -0.045767  3.101961  1.353760   \n",
       "1 -1.588230  2.173076  0.812581  ... -1.138930 -0.000819  0.000000  0.302220   \n",
       "2  1.381664  0.000000  0.851737  ...  1.128848  0.900461  0.000000  0.909753   \n",
       "3 -0.942383  0.000000  2.423265  ... -0.678379 -1.360356  0.000000  0.946652   \n",
       "4 -0.921871  0.000000  0.800872  ... -0.373566  0.113041  0.000000  0.755856   \n",
       "\n",
       "         23        24        25        26        27        28  \n",
       "0  0.979563  0.978076  0.920005  0.721657  0.988751  0.876678  \n",
       "1  0.833048  0.985700  0.978098  0.779732  0.992356  0.798343  \n",
       "2  1.108330  0.985692  0.951331  0.803252  0.865924  0.780118  \n",
       "3  1.028704  0.998656  0.728281  0.869200  1.026736  0.957904  \n",
       "4  1.361057  0.986610  0.838085  1.133295  0.872245  0.808487  \n",
       "\n",
       "[5 rows x 28 columns]"
      ]
     },
     "execution_count": 31,
     "metadata": {},
     "output_type": "execute_result"
    }
   ],
   "source": [
    "data_cpu = df_cpu.iloc[:,1:]\n",
    "data_cpu.head()"
   ]
  },
  {
   "cell_type": "code",
   "execution_count": 32,
   "id": "roman-computer",
   "metadata": {},
   "outputs": [
    {
     "data": {
      "text/plain": [
       "0    1.0\n",
       "1    1.0\n",
       "2    1.0\n",
       "3    0.0\n",
       "4    1.0\n",
       "Name: 0, dtype: float64"
      ]
     },
     "execution_count": 32,
     "metadata": {},
     "output_type": "execute_result"
    }
   ],
   "source": [
    "labels_cpu = df_cpu.iloc[:,0]\n",
    "labels_cpu.head()"
   ]
  },
  {
   "cell_type": "code",
   "execution_count": null,
   "id": "hundred-meditation",
   "metadata": {},
   "outputs": [],
   "source": []
  },
  {
   "cell_type": "code",
   "execution_count": null,
   "id": "alert-parameter",
   "metadata": {},
   "outputs": [],
   "source": []
  },
  {
   "cell_type": "markdown",
   "id": "identified-welding",
   "metadata": {},
   "source": [
    "### corelation time for cpu"
   ]
  },
  {
   "cell_type": "code",
   "execution_count": 33,
   "id": "improved-sussex",
   "metadata": {},
   "outputs": [
    {
     "name": "stdout",
     "output_type": "stream",
     "text": [
      "CPU times: user 13min 21s, sys: 34.6 s, total: 13min 56s\n",
      "Wall time: 2min 1s\n"
     ]
    },
    {
     "data": {
      "text/plain": [
       "<AxesSubplot:>"
      ]
     },
     "execution_count": 33,
     "metadata": {},
     "output_type": "execute_result"
    },
    {
     "data": {
      "image/png": "[encoded data removed]",
      "text/plain": [
       "<Figure size 792x648 with 2 Axes>"
      ]
     },
     "metadata": {},
     "output_type": "display_data"
    }
   ],
   "source": [
    "%%time\n",
    "from string import ascii_letters\n",
    "import seaborn as sns\n",
    "import matplotlib.pyplot as plt\n",
    "%matplotlib inline\n",
    "\n",
    "sns.set_theme(style=\"white\")\n",
    "\n",
    "\n",
    "# Compute the correlation matrix\n",
    "corr = data_cpu.corr()\n",
    "\n",
    "# Generate a mask for the upper triangle\n",
    "mask = np.triu(np.ones_like(corr, dtype=bool))\n",
    "\n",
    "# Set up the matplotlib figure\n",
    "f, ax = plt.subplots(figsize=(11, 9))\n",
    "\n",
    "# Generate a custom diverging colormap\n",
    "cmap = sns.diverging_palette(230, 20, as_cmap=True)\n",
    "\n",
    "# Draw the heatmap with the mask and correct aspect ratio\n",
    "sns.heatmap(corr, mask=mask, cmap=cmap, vmax=.3, center=0,\n",
    "            square=True, linewidths=.5, cbar_kws={\"shrink\": .5})"
   ]
  },
  {
   "cell_type": "markdown",
   "id": "inclusive-divide",
   "metadata": {},
   "source": [
    "#### Drop columns 25, 26, 27 for fast and efficient training (as they show very high correlation)"
   ]
  },
  {
   "cell_type": "code",
   "execution_count": 34,
   "id": "turned-survey",
   "metadata": {},
   "outputs": [],
   "source": [
    "data_cpu1 = data_cpu.drop(['25','26','27'], axis=1)"
   ]
  },
  {
   "cell_type": "code",
   "execution_count": 35,
   "id": "several-dependence",
   "metadata": {},
   "outputs": [
    {
     "data": {
      "text/html": [
       "<div>\n",
       "<style scoped>\n",
       "    .dataframe tbody tr th:only-of-type {\n",
       "        vertical-align: middle;\n",
       "    }\n",
       "\n",
       "    .dataframe tbody tr th {\n",
       "        vertical-align: top;\n",
       "    }\n",
       "\n",
       "    .dataframe thead th {\n",
       "        text-align: right;\n",
       "    }\n",
       "</style>\n",
       "<table border=\"1\" class=\"dataframe\">\n",
       "  <thead>\n",
       "    <tr style=\"text-align: right;\">\n",
       "      <th></th>\n",
       "      <th>1</th>\n",
       "      <th>2</th>\n",
       "      <th>3</th>\n",
       "      <th>4</th>\n",
       "      <th>5</th>\n",
       "      <th>6</th>\n",
       "      <th>7</th>\n",
       "      <th>8</th>\n",
       "      <th>9</th>\n",
       "      <th>10</th>\n",
       "      <th>...</th>\n",
       "      <th>16</th>\n",
       "      <th>17</th>\n",
       "      <th>18</th>\n",
       "      <th>19</th>\n",
       "      <th>20</th>\n",
       "      <th>21</th>\n",
       "      <th>22</th>\n",
       "      <th>23</th>\n",
       "      <th>24</th>\n",
       "      <th>28</th>\n",
       "    </tr>\n",
       "  </thead>\n",
       "  <tbody>\n",
       "    <tr>\n",
       "      <th>0</th>\n",
       "      <td>0.869293</td>\n",
       "      <td>-0.635082</td>\n",
       "      <td>0.225690</td>\n",
       "      <td>0.327470</td>\n",
       "      <td>-0.689993</td>\n",
       "      <td>0.754202</td>\n",
       "      <td>-0.248573</td>\n",
       "      <td>-1.092064</td>\n",
       "      <td>0.000000</td>\n",
       "      <td>1.374992</td>\n",
       "      <td>...</td>\n",
       "      <td>-1.046985</td>\n",
       "      <td>0.000000</td>\n",
       "      <td>0.657930</td>\n",
       "      <td>-0.010455</td>\n",
       "      <td>-0.045767</td>\n",
       "      <td>3.101961</td>\n",
       "      <td>1.353760</td>\n",
       "      <td>0.979563</td>\n",
       "      <td>0.978076</td>\n",
       "      <td>0.876678</td>\n",
       "    </tr>\n",
       "    <tr>\n",
       "      <th>1</th>\n",
       "      <td>0.907542</td>\n",
       "      <td>0.329147</td>\n",
       "      <td>0.359412</td>\n",
       "      <td>1.497970</td>\n",
       "      <td>-0.313010</td>\n",
       "      <td>1.095531</td>\n",
       "      <td>-0.557525</td>\n",
       "      <td>-1.588230</td>\n",
       "      <td>2.173076</td>\n",
       "      <td>0.812581</td>\n",
       "      <td>...</td>\n",
       "      <td>0.732156</td>\n",
       "      <td>0.000000</td>\n",
       "      <td>0.398701</td>\n",
       "      <td>-1.138930</td>\n",
       "      <td>-0.000819</td>\n",
       "      <td>0.000000</td>\n",
       "      <td>0.302220</td>\n",
       "      <td>0.833048</td>\n",
       "      <td>0.985700</td>\n",
       "      <td>0.798343</td>\n",
       "    </tr>\n",
       "    <tr>\n",
       "      <th>2</th>\n",
       "      <td>0.798835</td>\n",
       "      <td>1.470639</td>\n",
       "      <td>-1.635975</td>\n",
       "      <td>0.453773</td>\n",
       "      <td>0.425629</td>\n",
       "      <td>1.104875</td>\n",
       "      <td>1.282322</td>\n",
       "      <td>1.381664</td>\n",
       "      <td>0.000000</td>\n",
       "      <td>0.851737</td>\n",
       "      <td>...</td>\n",
       "      <td>-0.208778</td>\n",
       "      <td>2.548224</td>\n",
       "      <td>1.256955</td>\n",
       "      <td>1.128848</td>\n",
       "      <td>0.900461</td>\n",
       "      <td>0.000000</td>\n",
       "      <td>0.909753</td>\n",
       "      <td>1.108330</td>\n",
       "      <td>0.985692</td>\n",
       "      <td>0.780118</td>\n",
       "    </tr>\n",
       "    <tr>\n",
       "      <th>3</th>\n",
       "      <td>1.344385</td>\n",
       "      <td>-0.876626</td>\n",
       "      <td>0.935913</td>\n",
       "      <td>1.992050</td>\n",
       "      <td>0.882454</td>\n",
       "      <td>1.786066</td>\n",
       "      <td>-1.646778</td>\n",
       "      <td>-0.942383</td>\n",
       "      <td>0.000000</td>\n",
       "      <td>2.423265</td>\n",
       "      <td>...</td>\n",
       "      <td>-0.364658</td>\n",
       "      <td>0.000000</td>\n",
       "      <td>0.745313</td>\n",
       "      <td>-0.678379</td>\n",
       "      <td>-1.360356</td>\n",
       "      <td>0.000000</td>\n",
       "      <td>0.946652</td>\n",
       "      <td>1.028704</td>\n",
       "      <td>0.998656</td>\n",
       "      <td>0.957904</td>\n",
       "    </tr>\n",
       "    <tr>\n",
       "      <th>4</th>\n",
       "      <td>1.105009</td>\n",
       "      <td>0.321356</td>\n",
       "      <td>1.522401</td>\n",
       "      <td>0.882808</td>\n",
       "      <td>-1.205349</td>\n",
       "      <td>0.681466</td>\n",
       "      <td>-1.070464</td>\n",
       "      <td>-0.921871</td>\n",
       "      <td>0.000000</td>\n",
       "      <td>0.800872</td>\n",
       "      <td>...</td>\n",
       "      <td>0.631194</td>\n",
       "      <td>0.000000</td>\n",
       "      <td>0.479999</td>\n",
       "      <td>-0.373566</td>\n",
       "      <td>0.113041</td>\n",
       "      <td>0.000000</td>\n",
       "      <td>0.755856</td>\n",
       "      <td>1.361057</td>\n",
       "      <td>0.986610</td>\n",
       "      <td>0.808487</td>\n",
       "    </tr>\n",
       "  </tbody>\n",
       "</table>\n",
       "<p>5 rows × 25 columns</p>\n",
       "</div>"
      ],
      "text/plain": [
       "          1         2         3         4         5         6         7  \\\n",
       "0  0.869293 -0.635082  0.225690  0.327470 -0.689993  0.754202 -0.248573   \n",
       "1  0.907542  0.329147  0.359412  1.497970 -0.313010  1.095531 -0.557525   \n",
       "2  0.798835  1.470639 -1.635975  0.453773  0.425629  1.104875  1.282322   \n",
       "3  1.344385 -0.876626  0.935913  1.992050  0.882454  1.786066 -1.646778   \n",
       "4  1.105009  0.321356  1.522401  0.882808 -1.205349  0.681466 -1.070464   \n",
       "\n",
       "          8         9        10  ...        16        17        18        19  \\\n",
       "0 -1.092064  0.000000  1.374992  ... -1.046985  0.000000  0.657930 -0.010455   \n",
       "1 -1.588230  2.173076  0.812581  ...  0.732156  0.000000  0.398701 -1.138930   \n",
       "2  1.381664  0.000000  0.851737  ... -0.208778  2.548224  1.256955  1.128848   \n",
       "3 -0.942383  0.000000  2.423265  ... -0.364658  0.000000  0.745313 -0.678379   \n",
       "4 -0.921871  0.000000  0.800872  ...  0.631194  0.000000  0.479999 -0.373566   \n",
       "\n",
       "         20        21        22        23        24        28  \n",
       "0 -0.045767  3.101961  1.353760  0.979563  0.978076  0.876678  \n",
       "1 -0.000819  0.000000  0.302220  0.833048  0.985700  0.798343  \n",
       "2  0.900461  0.000000  0.909753  1.108330  0.985692  0.780118  \n",
       "3 -1.360356  0.000000  0.946652  1.028704  0.998656  0.957904  \n",
       "4  0.113041  0.000000  0.755856  1.361057  0.986610  0.808487  \n",
       "\n",
       "[5 rows x 25 columns]"
      ]
     },
     "execution_count": 35,
     "metadata": {},
     "output_type": "execute_result"
    }
   ],
   "source": [
    "data_cpu1.head()"
   ]
  },
  {
   "cell_type": "markdown",
   "id": "refined-virtue",
   "metadata": {},
   "source": [
    "### cpu data spliit time"
   ]
  },
  {
   "cell_type": "code",
   "execution_count": 36,
   "id": "operational-restriction",
   "metadata": {},
   "outputs": [
    {
     "name": "stdout",
     "output_type": "stream",
     "text": [
      "CPU times: user 4.18 ms, sys: 7 µs, total: 4.19 ms\n",
      "Wall time: 3.66 ms\n"
     ]
    }
   ],
   "source": [
    "%%time\n",
    "X_train_cpu, X_test_cpu, y_train_cpu, y_test_cpu = train_test_split(data_cpu1, labels_cpu, test_size=0.0046)\n",
    "X_misc_cpu, X_train_cpu, y_misc_cpu, y_train_cpu = train_test_split(data_cpu1, labels_cpu, test_size=0.2)"
   ]
  },
  {
   "cell_type": "markdown",
   "id": "correct-avenue",
   "metadata": {},
   "source": [
    "### cpu training time:"
   ]
  },
  {
   "cell_type": "code",
   "execution_count": 37,
   "id": "frank-express",
   "metadata": {},
   "outputs": [
    {
     "data": {
      "text/html": [
       "<table style=\"border: 2px solid white;\">\n",
       "<tr>\n",
       "<td style=\"vertical-align: top; border: 0px solid white\">\n",
       "<h3 style=\"text-align: left;\">Client</h3>\n",
       "<ul style=\"text-align: left; list-style: none; margin: 0; padding: 0;\">\n",
       "  <li><b>Scheduler: </b>tcp://127.0.0.1:34419</li>\n",
       "  <li><b>Dashboard: </b><a href='http://127.0.0.1:8787/status' target='_blank'>http://127.0.0.1:8787/status</a></li>\n",
       "</ul>\n",
       "</td>\n",
       "<td style=\"vertical-align: top; border: 0px solid white\">\n",
       "<h3 style=\"text-align: left;\">Cluster</h3>\n",
       "<ul style=\"text-align: left; list-style:none; margin: 0; padding: 0;\">\n",
       "  <li><b>Workers: </b>4</li>\n",
       "  <li><b>Cores: </b>4</li>\n",
       "  <li><b>Memory: </b>33.59 GB</li>\n",
       "</ul>\n",
       "</td>\n",
       "</tr>\n",
       "</table>"
      ],
      "text/plain": [
       "<Client: 'tcp://127.0.0.1:34419' processes=4 threads=4, memory=33.59 GB>"
      ]
     },
     "execution_count": 37,
     "metadata": {},
     "output_type": "execute_result"
    }
   ],
   "source": [
    "from dask.distributed import Client\n",
    "\n",
    "client = Client(n_workers=4, threads_per_worker=1)\n",
    "client"
   ]
  },
  {
   "cell_type": "code",
   "execution_count": 38,
   "id": "threaded-ground",
   "metadata": {},
   "outputs": [],
   "source": [
    "params = {'objective': 'binary:logistic',\n",
    "          'max_depth': 12, 'eta': 0.01, 'subsample': 0.5,\n",
    "          'min_child_weight': 0.5}\n",
    "\n",
    "X_test_c = X_test_cpu\n",
    "y_test_c = y_test_cpu\n",
    "\n",
    "X_test_cpu = X_test_cpu.compute()\n",
    "y_test_cpu = y_test_cpu.compute()\n",
    "\n",
    "\n",
    "evals_result = {}\n",
    "bst = dask_xgboost.train(client, params, X_train_cpu, y_train_cpu, num_boost_round=10, eval_set = [(X_test_cpu, y_test_cpu)], evals_result=evals_result)"
   ]
  },
  {
   "cell_type": "markdown",
   "id": "municipal-adrian",
   "metadata": {},
   "source": [
    "### cpu model analysis time:"
   ]
  },
  {
   "cell_type": "code",
   "execution_count": 39,
   "id": "proof-objective",
   "metadata": {},
   "outputs": [
    {
     "data": {
      "image/png": "[encoded data removed]",
      "text/plain": [
       "<Figure size 432x288 with 1 Axes>"
      ]
     },
     "metadata": {
      "needs_background": "light"
     },
     "output_type": "display_data"
    },
    {
     "name": "stdout",
     "output_type": "stream",
     "text": [
      "CPU times: user 239 ms, sys: 12.5 ms, total: 252 ms\n",
      "Wall time: 234 ms\n"
     ]
    }
   ],
   "source": [
    "%%time\n",
    "%matplotlib inline\n",
    "import matplotlib.pyplot as plt\n",
    "\n",
    "ax = xgboost.plot_importance(bst, height=0.8, max_num_features=9)\n",
    "ax.grid(False, axis=\"y\")\n",
    "ax.set_title('Estimated feature importance')\n",
    "plt.show()"
   ]
  },
  {
   "cell_type": "code",
   "execution_count": 40,
   "id": "super-currency",
   "metadata": {},
   "outputs": [
    {
     "name": "stdout",
     "output_type": "stream",
     "text": [
      "CPU times: user 645 ms, sys: 101 ms, total: 746 ms\n",
      "Wall time: 389 ms\n"
     ]
    },
    {
     "data": {
      "text/html": [
       "<table>\n",
       "<tr>\n",
       "<td>\n",
       "<table>\n",
       "  <thead>\n",
       "    <tr><td> </td><th> Array </th><th> Chunk </th></tr>\n",
       "  </thead>\n",
       "  <tbody>\n",
       "    <tr><th> Bytes </th><td> unknown </td> <td> unknown </td></tr>\n",
       "    <tr><th> Shape </th><td> (nan,) </td> <td> (nan,) </td></tr>\n",
       "    <tr><th> Count </th><td> 126 Tasks </td><td> 126 Chunks </td></tr>\n",
       "    <tr><th> Type </th><td> float32 </td><td> numpy.ndarray </td></tr>\n",
       "  </tbody>\n",
       "</table>\n",
       "</td>\n",
       "<td>\n",
       "\n",
       "</td>\n",
       "</tr>\n",
       "</table>"
      ],
      "text/plain": [
       "dask.array<values, shape=(nan,), dtype=float32, chunksize=(nan,), chunktype=numpy.ndarray>"
      ]
     },
     "execution_count": 40,
     "metadata": {},
     "output_type": "execute_result"
    }
   ],
   "source": [
    "%%time\n",
    "y_hat = dask_xgboost.predict(client, bst, X_test_c).persist()\n",
    "y_hat"
   ]
  },
  {
   "cell_type": "code",
   "execution_count": 41,
   "id": "enormous-disaster",
   "metadata": {},
   "outputs": [
    {
     "data": {
      "text/plain": [
       "(array([0.47545633, 0.49153873, 0.5088178 , ..., 0.5108755 , 0.45980677,\n",
       "        0.507248  ], dtype=float32),)"
      ]
     },
     "execution_count": 41,
     "metadata": {},
     "output_type": "execute_result"
    }
   ],
   "source": [
    "y_hat = dask.compute(y_hat)\n",
    "y_hat"
   ]
  },
  {
   "cell_type": "code",
   "execution_count": 42,
   "id": "burning-theory",
   "metadata": {},
   "outputs": [],
   "source": [
    "from sklearn.metrics import roc_curve\n",
    "\n",
    "fpr, tpr, _ = roc_curve(y_test_cpu, y_hat[0])"
   ]
  },
  {
   "cell_type": "markdown",
   "id": "hungry-incidence",
   "metadata": {},
   "source": [
    "# 3)Gpu model evaluation:\n",
    "### RFC model confusion matrix,sensitivity,specifity,loss and AUC values:"
   ]
  },
  {
   "cell_type": "code",
   "execution_count": 43,
   "id": "bearing-setup",
   "metadata": {},
   "outputs": [],
   "source": [
    "# RFC confusion matrix\n",
    "y_test, fil_preds_orig= y_test.astype(cupy.int32), fil_preds_orig.astype(cupy.int32)\n",
    "from cuml.metrics import confusion_matrix,roc_auc_score\n",
    "RFC_confusion_materix = confusion_matrix(y_test, fil_preds_orig)"
   ]
  },
  {
   "cell_type": "code",
   "execution_count": 44,
   "id": "intense-rings",
   "metadata": {},
   "outputs": [
    {
     "name": "stdout",
     "output_type": "stream",
     "text": [
      "RFC_confusion_materix is:         0       1\n",
      "0  595019  438507\n",
      "1  326412  840062\n"
     ]
    }
   ],
   "source": [
    "print(\"RFC_confusion_materix is:\",RFC_confusion_materix)"
   ]
  },
  {
   "cell_type": "code",
   "execution_count": 45,
   "id": "smooth-natural",
   "metadata": {},
   "outputs": [
    {
     "name": "stdout",
     "output_type": "stream",
     "text": [
      "RFC_roc is: 0.6479447484016418\n"
     ]
    }
   ],
   "source": [
    "#RFC roc\n",
    "RFC_roc=cuml.metrics.roc_auc_score(y_test, fil_preds_orig)\n",
    "print(\"RFC_roc is:\", RFC_roc)"
   ]
  },
  {
   "cell_type": "code",
   "execution_count": 46,
   "id": "valued-female",
   "metadata": {},
   "outputs": [
    {
     "name": "stdout",
     "output_type": "stream",
     "text": [
      "p_curve (0    0.530215\n",
      "1    0.657033\n",
      "2    1.000000\n",
      "dtype: float64, 0    1.000000\n",
      "1    0.720172\n",
      "2    0.000000\n",
      "dtype: float64, 0    0\n",
      "1    1\n",
      "dtype: int32)\n"
     ]
    }
   ],
   "source": [
    "#RFC p_curve\n",
    "p_curve=cuml.metrics.precision_recall_curve(y_test, fil_preds_orig)\n",
    "print(\"p_curve\",p_curve)"
   ]
  },
  {
   "cell_type": "markdown",
   "id": "harmful-lindsay",
   "metadata": {},
   "source": [
    "### RFC model confusion matrix,sensitivity,specifity,loss and AUC values:"
   ]
  },
  {
   "cell_type": "code",
   "execution_count": 47,
   "id": "deluxe-fetish",
   "metadata": {},
   "outputs": [],
   "source": [
    "#LRM confusion matrix\n",
    "y_test, preds= y_test.astype(cupy.int32), preds.astype(cupy.int32)\n",
    "from cuml.metrics import confusion_matrix,roc_auc_score\n",
    "LRM_confusion_materix = confusion_matrix(y_test, preds)"
   ]
  },
  {
   "cell_type": "code",
   "execution_count": 48,
   "id": "different-trance",
   "metadata": {},
   "outputs": [
    {
     "name": "stdout",
     "output_type": "stream",
     "text": [
      "LRM_confusion_materix is:         0       1\n",
      "0  432446  601080\n",
      "1  350933  815541\n"
     ]
    }
   ],
   "source": [
    "print(\"LRM_confusion_materix is:\", LRM_confusion_materix)"
   ]
  },
  {
   "cell_type": "code",
   "execution_count": 49,
   "id": "likely-administration",
   "metadata": {},
   "outputs": [
    {
     "name": "stdout",
     "output_type": "stream",
     "text": [
      "LRM_roc is: 0.5587843656539917\n"
     ]
    }
   ],
   "source": [
    "#LRM roc\n",
    "LRM_roc=cuml.metrics.roc_auc_score(y_test, preds)\n",
    "print(\"LRM_roc is:\", LRM_roc)"
   ]
  },
  {
   "cell_type": "markdown",
   "id": "incorrect-saint",
   "metadata": {},
   "source": [
    "### Model evaluation phase on CPU:"
   ]
  },
  {
   "cell_type": "code",
   "execution_count": 50,
   "id": "neutral-motel",
   "metadata": {},
   "outputs": [
    {
     "data": {
      "image/png": "[encoded data removed]",
      "text/plain": [
       "<Figure size 360x360 with 1 Axes>"
      ]
     },
     "metadata": {
      "needs_background": "light"
     },
     "output_type": "display_data"
    },
    {
     "name": "stdout",
     "output_type": "stream",
     "text": [
      "CPU times: user 164 ms, sys: 13 ms, total: 177 ms\n",
      "Wall time: 153 ms\n"
     ]
    }
   ],
   "source": [
    "%%time\n",
    "from sklearn.metrics import auc\n",
    "\n",
    "fig, ax = plt.subplots(figsize=(5, 5))\n",
    "ax.plot(fpr, tpr, lw=3,\n",
    "        label='ROC Curve (area = {:.2f})'.format(auc(fpr, tpr)))\n",
    "ax.plot([0, 1], [0, 1], 'k--', lw=2)\n",
    "ax.set(\n",
    "    xlim=(0, 1),\n",
    "    ylim=(0, 1),\n",
    "    title=\"ROC Curve\",\n",
    "    xlabel=\"False Positive Rate\",\n",
    "    ylabel=\"True Positive Rate\",\n",
    ")\n",
    "ax.legend();\n",
    "plt.show()"
   ]
  },
  {
   "cell_type": "markdown",
   "id": "shaped-appendix",
   "metadata": {},
   "source": [
    "### discussion on results\n",
    " * for the give data first we loaded it into a cudf data frame and done the preprocessing\n",
    " * then i builded the model with the cuml architecture\n",
    " * after i train the molel with 2  different frameworks\n",
    " \n",
    "      i) RandomForestClassifier Model:i got accuracy in RFC is: 65%\n",
    "      \n",
    "      ii) LogisticRegression Model: i got accuracy in LRM is: 54%\n",
    "      \n",
    "### ! so as for the results we can prefare RFC  frame work to classify the model to get best results\n",
    "\n",
    "### And also as comparision of cpu and gpu:\n",
    "* I used the dask data frame and xgboost for the CPU model\n",
    "#### and as shown above the time taken for each process,the cpu data frame is more higher then the time taken for the GPU data frame\n",
    "### !so GPU data frame is way faster "
   ]
  }
 ],
 "metadata": {
  "kernelspec": {
   "display_name": "Python 3",
   "language": "python",
   "name": "python3"
  },
  "language_info": {
   "codemirror_mode": {
    "name": "ipython",
    "version": 3
   },
   "file_extension": ".py",
   "mimetype": "text/x-python",
   "name": "python",
   "nbconvert_exporter": "python",
   "pygments_lexer": "ipython3",
   "version": "3.7.9"
  }
 },
 "nbformat": 4,
 "nbformat_minor": 5
}
